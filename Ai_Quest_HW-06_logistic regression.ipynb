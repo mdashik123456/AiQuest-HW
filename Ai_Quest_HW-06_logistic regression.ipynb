{
 "cells": [
  {
   "cell_type": "code",
   "execution_count": 1,
   "id": "134e16ea",
   "metadata": {},
   "outputs": [],
   "source": [
    "import pandas as pd\n",
    "from matplotlib import pyplot as plt\n",
    "import math"
   ]
  },
  {
   "cell_type": "code",
   "execution_count": 14,
   "id": "8690aa5a",
   "metadata": {},
   "outputs": [],
   "source": [
    "def LogisticRegressionAlgo(val):\n",
    "    return 1 / (1 + math.pow(math.e, -val))"
   ]
  },
  {
   "cell_type": "code",
   "execution_count": 11,
   "id": "25ea43e3",
   "metadata": {},
   "outputs": [],
   "source": [
    "df = pd.read_csv('shoe.csv')"
   ]
  },
  {
   "cell_type": "code",
   "execution_count": 12,
   "id": "13c4d974",
   "metadata": {},
   "outputs": [
    {
     "data": {
      "text/html": [
       "<div>\n",
       "<style scoped>\n",
       "    .dataframe tbody tr th:only-of-type {\n",
       "        vertical-align: middle;\n",
       "    }\n",
       "\n",
       "    .dataframe tbody tr th {\n",
       "        vertical-align: top;\n",
       "    }\n",
       "\n",
       "    .dataframe thead th {\n",
       "        text-align: right;\n",
       "    }\n",
       "</style>\n",
       "<table border=\"1\" class=\"dataframe\">\n",
       "  <thead>\n",
       "    <tr style=\"text-align: right;\">\n",
       "      <th></th>\n",
       "      <th>size(cm)</th>\n",
       "      <th>class(y)</th>\n",
       "    </tr>\n",
       "  </thead>\n",
       "  <tbody>\n",
       "    <tr>\n",
       "      <th>0</th>\n",
       "      <td>9.500</td>\n",
       "      <td>Female</td>\n",
       "    </tr>\n",
       "    <tr>\n",
       "      <th>1</th>\n",
       "      <td>10.125</td>\n",
       "      <td>Male</td>\n",
       "    </tr>\n",
       "    <tr>\n",
       "      <th>2</th>\n",
       "      <td>10.410</td>\n",
       "      <td>Male</td>\n",
       "    </tr>\n",
       "    <tr>\n",
       "      <th>3</th>\n",
       "      <td>9.810</td>\n",
       "      <td>Female</td>\n",
       "    </tr>\n",
       "    <tr>\n",
       "      <th>4</th>\n",
       "      <td>11.050</td>\n",
       "      <td>Male</td>\n",
       "    </tr>\n",
       "  </tbody>\n",
       "</table>\n",
       "</div>"
      ],
      "text/plain": [
       "   size(cm) class(y)\n",
       "0     9.500   Female\n",
       "1    10.125     Male\n",
       "2    10.410     Male\n",
       "3     9.810   Female\n",
       "4    11.050     Male"
      ]
     },
     "execution_count": 12,
     "metadata": {},
     "output_type": "execute_result"
    }
   ],
   "source": [
    "df.head()"
   ]
  },
  {
   "cell_type": "code",
   "execution_count": 15,
   "id": "fc4d7cc9",
   "metadata": {},
   "outputs": [
    {
     "name": "stdout",
     "output_type": "stream",
     "text": [
      "0.9999251537724895\n",
      "0.9999599363077709\n",
      "0.9999698712330268\n",
      "0.9999451031670289\n",
      "0.9999841131031667\n",
      "0.9998937914787018\n",
      "0.9999213166262887\n",
      "0.9999743258439833\n",
      "0.9999393299669873\n",
      "0.9999355785833519\n",
      "0.9999456493699554\n",
      "0.9999701710103248\n",
      "0.9999624575228931\n",
      "0.9999817257624551\n",
      "0.9999738072052126\n",
      "0.9999781218443622\n",
      "0.9999555010293252\n",
      "0.9999513105746769\n",
      "0.9999663680359613\n",
      "0.9999748342135404\n",
      "0.9999609254452048\n",
      "0.999913042143232\n",
      "0.9998989708060922\n",
      "0.9999765355363104\n",
      "0.9999336167893702\n",
      "0.9999713405882191\n",
      "0.9999660300405855\n",
      "0.9999798038829305\n",
      "0.99997105256468\n",
      "0.9999781218443622\n",
      "0.9999563821295476\n",
      "0.9999503270318982\n",
      "0.9999695684430994\n",
      "0.9999315952579199\n",
      "0.9999613142284802\n",
      "0.9999085841261478\n",
      "0.999899975962818\n",
      "0.9999740678211169\n",
      "0.9999322758503804\n",
      "0.9999103941195304\n"
     ]
    }
   ],
   "source": [
    "for i in df['size(cm)']:\n",
    "    print(LogisticRegressionAlgo(i))"
   ]
  },
  {
   "cell_type": "code",
   "execution_count": 13,
   "id": "8b6bde25",
   "metadata": {},
   "outputs": [
    {
     "data": {
      "text/plain": [
       "<matplotlib.collections.PathCollection at 0x241620f1350>"
      ]
     },
     "execution_count": 13,
     "metadata": {},
     "output_type": "execute_result"
    },
    {
     "data": {
      "image/png": "[encoded data removed]",
      "text/plain": [
       "<Figure size 640x480 with 1 Axes>"
      ]
     },
     "metadata": {},
     "output_type": "display_data"
    }
   ],
   "source": [
    "plt.scatter(df['size(cm)'], df['class(y)'])"
   ]
  },
  {
   "cell_type": "code",
   "execution_count": null,
   "id": "1c4d46cb",
   "metadata": {},
   "outputs": [],
   "source": []
  }
 ],
 "metadata": {
  "kernelspec": {
   "display_name": "Python 3 (ipykernel)",
   "language": "python",
   "name": "python3"
  },
  "language_info": {
   "codemirror_mode": {
    "name": "ipython",
    "version": 3
   },
   "file_extension": ".py",
   "mimetype": "text/x-python",
   "name": "python",
   "nbconvert_exporter": "python",
   "pygments_lexer": "ipython3",
   "version": "3.11.2"
  }
 },
 "nbformat": 4,
 "nbformat_minor": 5
}
