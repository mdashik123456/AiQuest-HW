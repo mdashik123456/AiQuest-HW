{
 "cells": [
  {
   "attachments": {},
   "cell_type": "markdown",
   "metadata": {},
   "source": [
    "# Python Conditions:"
   ]
  },
  {
   "attachments": {},
   "cell_type": "markdown",
   "metadata": {},
   "source": [
    "### 1. Take values of the length & breadth of a rectangle from user input and check if it is square or not."
   ]
  },
  {
   "cell_type": "code",
   "execution_count": 108,
   "metadata": {},
   "outputs": [
    {
     "name": "stdout",
     "output_type": "stream",
     "text": [
      "It is not a square.\n"
     ]
    }
   ],
   "source": [
    "length = float(input(\"Length of the rectangle: \"))\n",
    "breadth = float(input(\"Breadth of the rectangle: \"))\n",
    "\n",
    "if length == breadth:\n",
    "    print(\"It is a square.\")\n",
    "else:\n",
    "    print(\"It is not a square.\")"
   ]
  },
  {
   "attachments": {},
   "cell_type": "markdown",
   "metadata": {},
   "source": [
    "### 2. Take three integer values from the user and print the greatest among them."
   ]
  },
  {
   "cell_type": "code",
   "execution_count": 109,
   "metadata": {},
   "outputs": [
    {
     "name": "stdout",
     "output_type": "stream",
     "text": [
      "Greatest Number is:  30\n"
     ]
    }
   ],
   "source": [
    "# Take input from the user\n",
    "num1 = int(input(\"Enter the first number: \"))\n",
    "num2 = int(input(\"Enter the second number: \"))\n",
    "num3 = int(input(\"Enter the third number: \"))\n",
    "\n",
    "# Compare three numbers \n",
    "if num1 > num2 and num1 > num3:\n",
    "    print(\"Greatest Number is: \", num1)\n",
    "elif num2 > num1 and num3 < num2:\n",
    "    print(\"Greatest Number is: \", num2)\n",
    "else:\n",
    "    print(\"Greatest Number is: \", num3)"
   ]
  },
  {
   "attachments": {},
   "cell_type": "markdown",
   "metadata": {},
   "source": [
    "### 3. A student will not be allowed to sit in an exam if his/her attendance is less than 75%."
   ]
  },
  {
   "cell_type": "code",
   "execution_count": null,
   "metadata": {},
   "outputs": [
    {
     "name": "stdout",
     "output_type": "stream",
     "text": [
      "Eligible to sit in the exam.\n"
     ]
    }
   ],
   "source": [
    "\n",
    "total_class = int(input(\"Enter the total number of classes held: \"))\n",
    "atten_class = int(input(\"Enter the number of classes attended: \"))\n",
    "\n",
    "atten_perc = (atten_class / total_class) * 100\n",
    "\n",
    "if atten_perc >= 75:\n",
    "    print(\"Eligible to sit in the exam.\")\n",
    "else:\n",
    "    print(\"Not eligible to sit in the exam.\")\n"
   ]
  },
  {
   "attachments": {},
   "cell_type": "markdown",
   "metadata": {},
   "source": [
    "### 4. A school has the following rules for the grading system:\n",
    "Below 25 – F, 25 to 44 – E, 45 to 49 – D, 50 to 59 – C, 60 to 79 – B, 80 to 89 - A, Above 90 - A+\n",
    "Now, Ask the user to enter marks and print the corresponding grade."
   ]
  },
  {
   "cell_type": "code",
   "execution_count": null,
   "metadata": {},
   "outputs": [
    {
     "name": "stdout",
     "output_type": "stream",
     "text": [
      "Grade is: E\n"
     ]
    }
   ],
   "source": [
    "\n",
    "marks = int(input(\"Enter marks: \"))\n",
    "\n",
    "if marks < 25:\n",
    "    grade = \"F\"\n",
    "elif marks < 45:\n",
    "    grade = \"E\"\n",
    "elif marks < 50:\n",
    "    grade = \"D\"\n",
    "elif marks < 60:\n",
    "    grade = \"C\"\n",
    "elif marks < 80:\n",
    "    grade = \"B\"\n",
    "elif marks < 90:\n",
    "    grade = \"A\"\n",
    "else:\n",
    "    grade = \"A+\"\n",
    "\n",
    "print(\"Grade is:\", grade)\n"
   ]
  },
  {
   "attachments": {},
   "cell_type": "markdown",
   "metadata": {},
   "source": [
    "# Loop Problem:"
   ]
  },
  {
   "attachments": {},
   "cell_type": "markdown",
   "metadata": {},
   "source": [
    "### 5. Print the following pattern using for and while loop.\n",
    "1 2 3 4 5 6 7 <br>\n",
    "1 2 3 4 5 6<br>\n",
    "1 2 3 4 5<br>\n",
    "1 2 3 4<br>"
   ]
  },
  {
   "cell_type": "code",
   "execution_count": null,
   "metadata": {},
   "outputs": [
    {
     "name": "stdout",
     "output_type": "stream",
     "text": [
      "1 2 3 4 5 6 7 \n",
      "\n",
      "1 2 3 4 5 6 \n",
      "\n",
      "1 2 3 4 5 \n",
      "\n",
      "1 2 3 4 \n",
      "\n"
     ]
    }
   ],
   "source": [
    "for i in range(8, 4, -1):\n",
    "    for j in range(1, i):\n",
    "        print(j, end=\" \")\n",
    "    print(\"\\n\")"
   ]
  },
  {
   "attachments": {},
   "cell_type": "markdown",
   "metadata": {},
   "source": [
    "### 6. Display numbers from -100 to -10 using for loop."
   ]
  },
  {
   "cell_type": "code",
   "execution_count": null,
   "metadata": {},
   "outputs": [
    {
     "name": "stdout",
     "output_type": "stream",
     "text": [
      "-100 -99 -98 -97 -96 -95 -94 -93 -92 -91 -90 -89 -88 -87 -86 -85 -84 -83 -82 -81 -80 -79 -78 -77 -76 -75 -74 -73 -72 -71 -70 -69 -68 -67 -66 -65 -64 -63 -62 -61 -60 -59 -58 -57 -56 -55 -54 -53 -52 -51 -50 -49 -48 -47 -46 -45 -44 -43 -42 -41 -40 -39 -38 -37 -36 -35 -34 -33 -32 -31 -30 -29 -28 -27 -26 -25 -24 -23 -22 -21 -20 -19 -18 -17 -16 -15 -14 -13 -12 -11 -10 "
     ]
    }
   ],
   "source": [
    "for i in range(-100, -9):\n",
    "    print(i, end= \" \")"
   ]
  },
  {
   "attachments": {},
   "cell_type": "markdown",
   "metadata": {},
   "source": [
    "### 7. Write a program to sum all prime numbers within a range of 10 to 1000."
   ]
  },
  {
   "cell_type": "code",
   "execution_count": null,
   "metadata": {},
   "outputs": [
    {
     "name": "stdout",
     "output_type": "stream",
     "text": [
      "Sum of all prime numbers between 10 and 1000 is: 76110\n"
     ]
    }
   ],
   "source": [
    "def is_prime(n):\n",
    "    if n < 2:\n",
    "        return False\n",
    "    for i in range(2, int(n**0.5) + 1):\n",
    "        if n % i == 0:\n",
    "            return False\n",
    "    return True\n",
    "\n",
    "sum = 0\n",
    "\n",
    "for num in range(10, 1000 + 1):\n",
    "    if is_prime(num):\n",
    "        sum += num\n",
    "\n",
    "print(\"Sum of all prime numbers between 10 and 1000 is:\", sum)\n"
   ]
  },
  {
   "attachments": {},
   "cell_type": "markdown",
   "metadata": {},
   "source": [
    "### 8. Find the factorial of an n! (Hint, n=7: 7*6*5*4*3*2*1)."
   ]
  },
  {
   "cell_type": "code",
   "execution_count": 58,
   "metadata": {},
   "outputs": [
    {
     "data": {
      "text/plain": [
       "5040"
      ]
     },
     "execution_count": 58,
     "metadata": {},
     "output_type": "execute_result"
    }
   ],
   "source": [
    "def fact(n):\n",
    "    if n == 0:\n",
    "        return 1\n",
    "    else:\n",
    "        return n * fact(n - 1)\n",
    "\n",
    "n = int(input(\"Enter value of n: \"))\n",
    "fact(n)"
   ]
  },
  {
   "attachments": {},
   "cell_type": "markdown",
   "metadata": {},
   "source": [
    "### 9. Reverse a given integer number 27956240710."
   ]
  },
  {
   "cell_type": "code",
   "execution_count": 62,
   "metadata": {},
   "outputs": [
    {
     "name": "stdout",
     "output_type": "stream",
     "text": [
      "01704265972"
     ]
    }
   ],
   "source": [
    "#first methood\n",
    "num = 27956240710\n",
    "num = str(num)\n",
    "for i in reversed(num):\n",
    "    print(i, end=\"\")"
   ]
  },
  {
   "cell_type": "code",
   "execution_count": 69,
   "metadata": {},
   "outputs": [
    {
     "name": "stdout",
     "output_type": "stream",
     "text": [
      "1704265972\n"
     ]
    }
   ],
   "source": [
    "#Secound Methood\n",
    "num = 27956240710\n",
    "rev_num = 0\n",
    "while num > 0:\n",
    "    digit = num % 10\n",
    "    rev_num = (rev_num * 10) + digit\n",
    "    num //= 10\n",
    "\n",
    "print(rev_num)\n"
   ]
  },
  {
   "attachments": {},
   "cell_type": "markdown",
   "metadata": {},
   "source": [
    "### 10. Print the following pattern using for and while loop.\n",
    "'# # #' <br>\n",
    "'# # # #' <br>\n",
    "'# # #' <br>\n",
    "'# # ' <br>\n"
   ]
  },
  {
   "cell_type": "code",
   "execution_count": 1,
   "metadata": {},
   "outputs": [
    {
     "name": "stdout",
     "output_type": "stream",
     "text": [
      "# # # \n",
      "# # # # \n",
      "# # # \n",
      "# # \n"
     ]
    }
   ],
   "source": [
    "for i in range(3, 5):\n",
    "    for j in (range(i)):\n",
    "        print('#', end=' ')\n",
    "    print()\n",
    "\n",
    "for i in range(3, 1, -1):\n",
    "    for j in (range(i)):\n",
    "        print('#', end=' ')\n",
    "    print()"
   ]
  },
  {
   "attachments": {},
   "cell_type": "markdown",
   "metadata": {},
   "source": [
    "### 11. Display the Fibonacci series of 15 elements using the for and while loop."
   ]
  },
  {
   "cell_type": "code",
   "execution_count": 81,
   "metadata": {},
   "outputs": [
    {
     "name": "stdout",
     "output_type": "stream",
     "text": [
      "[0, 1, 1, 2, 3, 5, 8, 13, 21, 34, 55, 89, 144, 233, 377]\n"
     ]
    }
   ],
   "source": [
    "#For Loop\n",
    "def fib(n):\n",
    "    num = [0,1]\n",
    "    for i in range(2, n):        \n",
    "        num.append(num[i-2] + num[i-1])\n",
    "    return num    \n",
    "print(fib(15))\n"
   ]
  },
  {
   "cell_type": "code",
   "execution_count": 83,
   "metadata": {},
   "outputs": [
    {
     "name": "stdout",
     "output_type": "stream",
     "text": [
      "[0, 1, 1, 2, 3, 5, 8, 13, 21, 34, 55, 89, 144, 233, 377]\n"
     ]
    }
   ],
   "source": [
    "#While Loop\n",
    "def fib(n):\n",
    "    num = [0,1]\n",
    "    i = 2\n",
    "    while i < n:\n",
    "        num.append(num[i-2] + num[i-1])\n",
    "        i += 1\n",
    "    return num\n",
    "\n",
    "print(fib(15))"
   ]
  },
  {
   "attachments": {},
   "cell_type": "markdown",
   "metadata": {},
   "source": [
    "# Python inbuilt Data Structure:"
   ]
  },
  {
   "attachments": {},
   "cell_type": "markdown",
   "metadata": {},
   "source": [
    "### 12. Remove 2 and add 3 to the list and replace True with False.\n",
    "Li = [1,3,5, [2,3], True] <br>\n",
    "Output = [1,3,5, [3,3], False]"
   ]
  },
  {
   "cell_type": "code",
   "execution_count": 85,
   "metadata": {},
   "outputs": [
    {
     "data": {
      "text/plain": [
       "[1, 3, 5, [3, 3], False]"
      ]
     },
     "execution_count": 85,
     "metadata": {},
     "output_type": "execute_result"
    }
   ],
   "source": [
    "Li = [1,3,5, [2,3], True]\n",
    "Li[3][0] = 3\n",
    "Li[4] = False \n",
    "Li"
   ]
  },
  {
   "attachments": {},
   "cell_type": "markdown",
   "metadata": {},
   "source": [
    "### 13. Find the intersection (common) of two sets.\n",
    "S1 = {1,4,6,8}<br>\n",
    "S2 = {True, 1,2,10}"
   ]
  },
  {
   "cell_type": "code",
   "execution_count": 92,
   "metadata": {},
   "outputs": [
    {
     "data": {
      "text/plain": [
       "{True}"
      ]
     },
     "execution_count": 92,
     "metadata": {},
     "output_type": "execute_result"
    }
   ],
   "source": [
    "S1 = {1,4,6,8}\n",
    "S2 = {True, 1,2,10}\n",
    "S1.intersection(S2)"
   ]
  },
  {
   "attachments": {},
   "cell_type": "markdown",
   "metadata": {},
   "source": [
    "### 14. Input a list from the user then Remove duplicates from a list and create a set and find the max\n",
    "number. User_input = [1,9,3,4,5,200,54]"
   ]
  },
  {
   "cell_type": "code",
   "execution_count": 97,
   "metadata": {},
   "outputs": [
    {
     "name": "stdout",
     "output_type": "stream",
     "text": [
      "{1, 3, 4, 5, 200, 9, 54}\n",
      "max value is 200\n"
     ]
    }
   ],
   "source": [
    "User_input = [1,9,3,4,5,1,200,54]\n",
    "\n",
    "# Convert to set remove Duplicates\n",
    "remove_dup = set(User_input)\n",
    "print(remove_dup)\n",
    "\n",
    "# find max value\n",
    "print(f\"max value is {max(remove_dup)}\")\n"
   ]
  },
  {
   "attachments": {},
   "cell_type": "markdown",
   "metadata": {},
   "source": [
    "### 15. Rename the key of a dictionary.\n",
    "Dict = { \"name\": \"Shakil\", \"age\":27, \"city\": “Berlin”, \"country\": \"Germany\" }\n",
    "Write a program to rename a key ‘country’ to a ‘region’ in the following dictionary."
   ]
  },
  {
   "cell_type": "code",
   "execution_count": 101,
   "metadata": {},
   "outputs": [
    {
     "data": {
      "text/plain": [
       "{'name': 'Shakil', 'age': 27, 'city': 'Berlin', 'region': 'Germany'}"
      ]
     },
     "execution_count": 101,
     "metadata": {},
     "output_type": "execute_result"
    }
   ],
   "source": [
    "Dict = { \"name\": \"Shakil\", \"age\":27, \"city\": \"Berlin\", \"country\": \"Germany\" }\n",
    "Dict[\"region\"] = Dict.pop(\"country\")\n",
    "Dict"
   ]
  },
  {
   "attachments": {},
   "cell_type": "markdown",
   "metadata": {},
   "source": [
    "### 16. Creating a data frame using the list.\n",
    "num = [10,100,300] (column name is number)"
   ]
  },
  {
   "cell_type": "code",
   "execution_count": 103,
   "metadata": {},
   "outputs": [
    {
     "data": {
      "text/html": [
       "<div>\n",
       "<style scoped>\n",
       "    .dataframe tbody tr th:only-of-type {\n",
       "        vertical-align: middle;\n",
       "    }\n",
       "\n",
       "    .dataframe tbody tr th {\n",
       "        vertical-align: top;\n",
       "    }\n",
       "\n",
       "    .dataframe thead th {\n",
       "        text-align: right;\n",
       "    }\n",
       "</style>\n",
       "<table border=\"1\" class=\"dataframe\">\n",
       "  <thead>\n",
       "    <tr style=\"text-align: right;\">\n",
       "      <th></th>\n",
       "      <th>0</th>\n",
       "    </tr>\n",
       "  </thead>\n",
       "  <tbody>\n",
       "    <tr>\n",
       "      <th>0</th>\n",
       "      <td>10</td>\n",
       "    </tr>\n",
       "    <tr>\n",
       "      <th>1</th>\n",
       "      <td>100</td>\n",
       "    </tr>\n",
       "    <tr>\n",
       "      <th>2</th>\n",
       "      <td>300</td>\n",
       "    </tr>\n",
       "  </tbody>\n",
       "</table>\n",
       "</div>"
      ],
      "text/plain": [
       "     0\n",
       "0   10\n",
       "1  100\n",
       "2  300"
      ]
     },
     "execution_count": 103,
     "metadata": {},
     "output_type": "execute_result"
    }
   ],
   "source": [
    "import pandas as pd\n",
    "\n",
    "num = [10, 100, 300]\n",
    "df = pd.DataFrame(num)\n",
    "df\n"
   ]
  },
  {
   "attachments": {},
   "cell_type": "markdown",
   "metadata": {},
   "source": [
    "### 17. Change the value of a key in a given dictionary.\n",
    "Write a Python program to change ‘age’ to 28 in the following dictionary.\n",
    "Dict = { \"name\": \"Shakil\", \"age\":27, \"city\": “Berlin”, \"country\": \"Germany\" }"
   ]
  },
  {
   "cell_type": "code",
   "execution_count": 105,
   "metadata": {},
   "outputs": [
    {
     "data": {
      "text/plain": [
       "{'name': 'Shakil', 'age': 28, 'city': 'Berlin', 'country': 'Germany'}"
      ]
     },
     "execution_count": 105,
     "metadata": {},
     "output_type": "execute_result"
    }
   ],
   "source": [
    "Dict = { \"name\": \"Shakil\", \"age\":27, \"city\": \"Berlin\", \"country\": \"Germany\" }\n",
    "Dict[\"age\"] = 28\n",
    "Dict"
   ]
  }
 ],
 "metadata": {
  "kernelspec": {
   "display_name": "Python 3",
   "language": "python",
   "name": "python3"
  },
  "language_info": {
   "codemirror_mode": {
    "name": "ipython",
    "version": 3
   },
   "file_extension": ".py",
   "mimetype": "text/x-python",
   "name": "python",
   "nbconvert_exporter": "python",
   "pygments_lexer": "ipython3",
   "version": "3.11.2"
  },
  "orig_nbformat": 4
 },
 "nbformat": 4,
 "nbformat_minor": 2
}
