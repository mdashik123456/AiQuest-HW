{
 "cells": [
  {
   "cell_type": "code",
   "execution_count": 1,
   "id": "7043509e",
   "metadata": {},
   "outputs": [],
   "source": [
    "# importporting Libraries\n",
    "\n",
    "import pandas as pd\n",
    "import numpy as np\n",
    "from matplotlib import pyplot as plt\n",
    "import warnings as wr\n",
    "wr.filterwarnings('ignore')"
   ]
  },
  {
   "cell_type": "code",
   "execution_count": 2,
   "id": "5bc56e3d",
   "metadata": {},
   "outputs": [],
   "source": [
    "df = pd.read_csv('Height-Weight Data.csv') #read csv file"
   ]
  },
  {
   "cell_type": "code",
   "execution_count": 3,
   "id": "0da64277",
   "metadata": {},
   "outputs": [
    {
     "data": {
      "text/html": [
       "<div>\n",
       "<style scoped>\n",
       "    .dataframe tbody tr th:only-of-type {\n",
       "        vertical-align: middle;\n",
       "    }\n",
       "\n",
       "    .dataframe tbody tr th {\n",
       "        vertical-align: top;\n",
       "    }\n",
       "\n",
       "    .dataframe thead th {\n",
       "        text-align: right;\n",
       "    }\n",
       "</style>\n",
       "<table border=\"1\" class=\"dataframe\">\n",
       "  <thead>\n",
       "    <tr style=\"text-align: right;\">\n",
       "      <th></th>\n",
       "      <th>Height</th>\n",
       "      <th>Weight</th>\n",
       "    </tr>\n",
       "  </thead>\n",
       "  <tbody>\n",
       "    <tr>\n",
       "      <th>0</th>\n",
       "      <td>73.847017</td>\n",
       "      <td>241.893563</td>\n",
       "    </tr>\n",
       "    <tr>\n",
       "      <th>1</th>\n",
       "      <td>68.781904</td>\n",
       "      <td>162.310473</td>\n",
       "    </tr>\n",
       "    <tr>\n",
       "      <th>2</th>\n",
       "      <td>74.110105</td>\n",
       "      <td>212.740856</td>\n",
       "    </tr>\n",
       "    <tr>\n",
       "      <th>3</th>\n",
       "      <td>71.730978</td>\n",
       "      <td>220.042470</td>\n",
       "    </tr>\n",
       "    <tr>\n",
       "      <th>4</th>\n",
       "      <td>69.881796</td>\n",
       "      <td>206.349801</td>\n",
       "    </tr>\n",
       "    <tr>\n",
       "      <th>5</th>\n",
       "      <td>67.253016</td>\n",
       "      <td>152.212156</td>\n",
       "    </tr>\n",
       "    <tr>\n",
       "      <th>6</th>\n",
       "      <td>68.785081</td>\n",
       "      <td>183.927889</td>\n",
       "    </tr>\n",
       "    <tr>\n",
       "      <th>7</th>\n",
       "      <td>68.348516</td>\n",
       "      <td>167.971111</td>\n",
       "    </tr>\n",
       "    <tr>\n",
       "      <th>8</th>\n",
       "      <td>67.018950</td>\n",
       "      <td>175.929440</td>\n",
       "    </tr>\n",
       "    <tr>\n",
       "      <th>9</th>\n",
       "      <td>63.456494</td>\n",
       "      <td>156.399676</td>\n",
       "    </tr>\n",
       "  </tbody>\n",
       "</table>\n",
       "</div>"
      ],
      "text/plain": [
       "      Height      Weight\n",
       "0  73.847017  241.893563\n",
       "1  68.781904  162.310473\n",
       "2  74.110105  212.740856\n",
       "3  71.730978  220.042470\n",
       "4  69.881796  206.349801\n",
       "5  67.253016  152.212156\n",
       "6  68.785081  183.927889\n",
       "7  68.348516  167.971111\n",
       "8  67.018950  175.929440\n",
       "9  63.456494  156.399676"
      ]
     },
     "execution_count": 3,
     "metadata": {},
     "output_type": "execute_result"
    }
   ],
   "source": [
    "df.head(10) # print first 10 data"
   ]
  },
  {
   "cell_type": "code",
   "execution_count": 4,
   "id": "cb8459ad",
   "metadata": {},
   "outputs": [
    {
     "data": {
      "text/html": [
       "<div>\n",
       "<style scoped>\n",
       "    .dataframe tbody tr th:only-of-type {\n",
       "        vertical-align: middle;\n",
       "    }\n",
       "\n",
       "    .dataframe tbody tr th {\n",
       "        vertical-align: top;\n",
       "    }\n",
       "\n",
       "    .dataframe thead th {\n",
       "        text-align: right;\n",
       "    }\n",
       "</style>\n",
       "<table border=\"1\" class=\"dataframe\">\n",
       "  <thead>\n",
       "    <tr style=\"text-align: right;\">\n",
       "      <th></th>\n",
       "      <th>Height</th>\n",
       "      <th>Weight</th>\n",
       "    </tr>\n",
       "  </thead>\n",
       "  <tbody>\n",
       "    <tr>\n",
       "      <th>3494</th>\n",
       "      <td>65.528857</td>\n",
       "      <td>184.428199</td>\n",
       "    </tr>\n",
       "    <tr>\n",
       "      <th>3495</th>\n",
       "      <td>68.508851</td>\n",
       "      <td>191.395759</td>\n",
       "    </tr>\n",
       "    <tr>\n",
       "      <th>3496</th>\n",
       "      <td>69.296830</td>\n",
       "      <td>185.649086</td>\n",
       "    </tr>\n",
       "    <tr>\n",
       "      <th>3497</th>\n",
       "      <td>70.542201</td>\n",
       "      <td>210.198845</td>\n",
       "    </tr>\n",
       "    <tr>\n",
       "      <th>3498</th>\n",
       "      <td>73.912549</td>\n",
       "      <td>202.429960</td>\n",
       "    </tr>\n",
       "    <tr>\n",
       "      <th>3499</th>\n",
       "      <td>67.396021</td>\n",
       "      <td>144.277671</td>\n",
       "    </tr>\n",
       "    <tr>\n",
       "      <th>3500</th>\n",
       "      <td>72.738970</td>\n",
       "      <td>187.222909</td>\n",
       "    </tr>\n",
       "  </tbody>\n",
       "</table>\n",
       "</div>"
      ],
      "text/plain": [
       "         Height      Weight\n",
       "3494  65.528857  184.428199\n",
       "3495  68.508851  191.395759\n",
       "3496  69.296830  185.649086\n",
       "3497  70.542201  210.198845\n",
       "3498  73.912549  202.429960\n",
       "3499  67.396021  144.277671\n",
       "3500  72.738970  187.222909"
      ]
     },
     "execution_count": 4,
     "metadata": {},
     "output_type": "execute_result"
    }
   ],
   "source": [
    "df.tail(7) # print last 7 data"
   ]
  },
  {
   "cell_type": "code",
   "execution_count": 5,
   "id": "6453259e",
   "metadata": {},
   "outputs": [
    {
     "data": {
      "text/plain": [
       "(3501, 2)"
      ]
     },
     "execution_count": 5,
     "metadata": {},
     "output_type": "execute_result"
    }
   ],
   "source": [
    "df.shape #print matrix shape"
   ]
  },
  {
   "cell_type": "code",
   "execution_count": 6,
   "id": "8a47027d",
   "metadata": {},
   "outputs": [],
   "source": [
    "row, col = df.shape #print matrix shape"
   ]
  },
  {
   "cell_type": "code",
   "execution_count": 7,
   "id": "63a90e0c",
   "metadata": {},
   "outputs": [
    {
     "data": {
      "text/plain": [
       "3501"
      ]
     },
     "execution_count": 7,
     "metadata": {},
     "output_type": "execute_result"
    }
   ],
   "source": [
    "row"
   ]
  },
  {
   "cell_type": "code",
   "execution_count": 8,
   "id": "cebc874a",
   "metadata": {},
   "outputs": [
    {
     "data": {
      "text/plain": [
       "2"
      ]
     },
     "execution_count": 8,
     "metadata": {},
     "output_type": "execute_result"
    }
   ],
   "source": [
    "col"
   ]
  },
  {
   "cell_type": "code",
   "execution_count": 9,
   "id": "d2ae47c9",
   "metadata": {},
   "outputs": [
    {
     "data": {
      "text/html": [
       "<div>\n",
       "<style scoped>\n",
       "    .dataframe tbody tr th:only-of-type {\n",
       "        vertical-align: middle;\n",
       "    }\n",
       "\n",
       "    .dataframe tbody tr th {\n",
       "        vertical-align: top;\n",
       "    }\n",
       "\n",
       "    .dataframe thead th {\n",
       "        text-align: right;\n",
       "    }\n",
       "</style>\n",
       "<table border=\"1\" class=\"dataframe\">\n",
       "  <thead>\n",
       "    <tr style=\"text-align: right;\">\n",
       "      <th></th>\n",
       "      <th>Height</th>\n",
       "      <th>Weight</th>\n",
       "    </tr>\n",
       "  </thead>\n",
       "  <tbody>\n",
       "    <tr>\n",
       "      <th>10</th>\n",
       "      <td>71.195382</td>\n",
       "      <td>186.604926</td>\n",
       "    </tr>\n",
       "    <tr>\n",
       "      <th>11</th>\n",
       "      <td>71.640805</td>\n",
       "      <td>213.741170</td>\n",
       "    </tr>\n",
       "    <tr>\n",
       "      <th>12</th>\n",
       "      <td>64.766329</td>\n",
       "      <td>167.127461</td>\n",
       "    </tr>\n",
       "    <tr>\n",
       "      <th>13</th>\n",
       "      <td>69.283070</td>\n",
       "      <td>189.446181</td>\n",
       "    </tr>\n",
       "    <tr>\n",
       "      <th>14</th>\n",
       "      <td>69.243732</td>\n",
       "      <td>186.434168</td>\n",
       "    </tr>\n",
       "    <tr>\n",
       "      <th>15</th>\n",
       "      <td>67.645620</td>\n",
       "      <td>172.186930</td>\n",
       "    </tr>\n",
       "    <tr>\n",
       "      <th>16</th>\n",
       "      <td>72.418317</td>\n",
       "      <td>196.028506</td>\n",
       "    </tr>\n",
       "    <tr>\n",
       "      <th>17</th>\n",
       "      <td>63.974326</td>\n",
       "      <td>172.883470</td>\n",
       "    </tr>\n",
       "    <tr>\n",
       "      <th>18</th>\n",
       "      <td>69.640060</td>\n",
       "      <td>185.983958</td>\n",
       "    </tr>\n",
       "    <tr>\n",
       "      <th>19</th>\n",
       "      <td>67.936005</td>\n",
       "      <td>182.426648</td>\n",
       "    </tr>\n",
       "    <tr>\n",
       "      <th>20</th>\n",
       "      <td>67.915050</td>\n",
       "      <td>174.115929</td>\n",
       "    </tr>\n",
       "    <tr>\n",
       "      <th>21</th>\n",
       "      <td>69.439440</td>\n",
       "      <td>197.731422</td>\n",
       "    </tr>\n",
       "    <tr>\n",
       "      <th>22</th>\n",
       "      <td>66.149132</td>\n",
       "      <td>149.173566</td>\n",
       "    </tr>\n",
       "    <tr>\n",
       "      <th>23</th>\n",
       "      <td>75.205974</td>\n",
       "      <td>228.761781</td>\n",
       "    </tr>\n",
       "    <tr>\n",
       "      <th>24</th>\n",
       "      <td>67.893196</td>\n",
       "      <td>162.006652</td>\n",
       "    </tr>\n",
       "  </tbody>\n",
       "</table>\n",
       "</div>"
      ],
      "text/plain": [
       "       Height      Weight\n",
       "10  71.195382  186.604926\n",
       "11  71.640805  213.741170\n",
       "12  64.766329  167.127461\n",
       "13  69.283070  189.446181\n",
       "14  69.243732  186.434168\n",
       "15  67.645620  172.186930\n",
       "16  72.418317  196.028506\n",
       "17  63.974326  172.883470\n",
       "18  69.640060  185.983958\n",
       "19  67.936005  182.426648\n",
       "20  67.915050  174.115929\n",
       "21  69.439440  197.731422\n",
       "22  66.149132  149.173566\n",
       "23  75.205974  228.761781\n",
       "24  67.893196  162.006652"
      ]
     },
     "execution_count": 9,
     "metadata": {},
     "output_type": "execute_result"
    }
   ],
   "source": [
    "df[10:25] #print specific number of data"
   ]
  },
  {
   "cell_type": "code",
   "execution_count": 10,
   "id": "9ae2c1a2",
   "metadata": {},
   "outputs": [
    {
     "data": {
      "text/plain": [
       "Text(0, 0.5, 'Weight')"
      ]
     },
     "execution_count": 10,
     "metadata": {},
     "output_type": "execute_result"
    },
    {
     "data": {
      "image/png": "[encoded data removed]",
      "text/plain": [
       "<Figure size 640x480 with 1 Axes>"
      ]
     },
     "metadata": {},
     "output_type": "display_data"
    }
   ],
   "source": [
    "plt.title(\"Height-Weight\") #Graph title\n",
    "plt.scatter(df.Height, df.Weight, color='purple', marker='*') # Main graph generate\n",
    "plt.xlabel('Height') # X axis\n",
    "plt.ylabel('Weight') #Y axis"
   ]
  },
  {
   "cell_type": "code",
   "execution_count": 11,
   "id": "2e956c17",
   "metadata": {},
   "outputs": [
    {
     "data": {
      "text/plain": [
       "Height    69.024411\n",
       "dtype: float64"
      ]
     },
     "execution_count": 11,
     "metadata": {},
     "output_type": "execute_result"
    }
   ],
   "source": [
    "df[['Height']].mean() #Mean value of Height"
   ]
  },
  {
   "cell_type": "code",
   "execution_count": 12,
   "id": "936636b8",
   "metadata": {},
   "outputs": [
    {
     "data": {
      "text/plain": [
       "186.891257979463"
      ]
     },
     "execution_count": 12,
     "metadata": {},
     "output_type": "execute_result"
    }
   ],
   "source": [
    "df.Weight.mean() #Mean value of Weight"
   ]
  },
  {
   "cell_type": "code",
   "execution_count": 13,
   "id": "1a95fa7d",
   "metadata": {},
   "outputs": [],
   "source": [
    "x = df[['Height']] ## assign Values of Height on variable x"
   ]
  },
  {
   "cell_type": "code",
   "execution_count": 14,
   "id": "5179f68a",
   "metadata": {},
   "outputs": [],
   "source": [
    "y = df.drop('Height', axis=1) # assign Values of Weight on variable y"
   ]
  },
  {
   "cell_type": "code",
   "execution_count": 15,
   "id": "824ff89e",
   "metadata": {},
   "outputs": [
    {
     "data": {
      "text/html": [
       "<div>\n",
       "<style scoped>\n",
       "    .dataframe tbody tr th:only-of-type {\n",
       "        vertical-align: middle;\n",
       "    }\n",
       "\n",
       "    .dataframe tbody tr th {\n",
       "        vertical-align: top;\n",
       "    }\n",
       "\n",
       "    .dataframe thead th {\n",
       "        text-align: right;\n",
       "    }\n",
       "</style>\n",
       "<table border=\"1\" class=\"dataframe\">\n",
       "  <thead>\n",
       "    <tr style=\"text-align: right;\">\n",
       "      <th></th>\n",
       "      <th>Height</th>\n",
       "    </tr>\n",
       "  </thead>\n",
       "  <tbody>\n",
       "    <tr>\n",
       "      <th>0</th>\n",
       "      <td>73.847017</td>\n",
       "    </tr>\n",
       "    <tr>\n",
       "      <th>1</th>\n",
       "      <td>68.781904</td>\n",
       "    </tr>\n",
       "    <tr>\n",
       "      <th>2</th>\n",
       "      <td>74.110105</td>\n",
       "    </tr>\n",
       "    <tr>\n",
       "      <th>3</th>\n",
       "      <td>71.730978</td>\n",
       "    </tr>\n",
       "    <tr>\n",
       "      <th>4</th>\n",
       "      <td>69.881796</td>\n",
       "    </tr>\n",
       "  </tbody>\n",
       "</table>\n",
       "</div>"
      ],
      "text/plain": [
       "      Height\n",
       "0  73.847017\n",
       "1  68.781904\n",
       "2  74.110105\n",
       "3  71.730978\n",
       "4  69.881796"
      ]
     },
     "execution_count": 15,
     "metadata": {},
     "output_type": "execute_result"
    }
   ],
   "source": [
    "x.head() #print 1st 5 data"
   ]
  },
  {
   "cell_type": "code",
   "execution_count": 16,
   "id": "491cce75",
   "metadata": {},
   "outputs": [
    {
     "data": {
      "text/html": [
       "<div>\n",
       "<style scoped>\n",
       "    .dataframe tbody tr th:only-of-type {\n",
       "        vertical-align: middle;\n",
       "    }\n",
       "\n",
       "    .dataframe tbody tr th {\n",
       "        vertical-align: top;\n",
       "    }\n",
       "\n",
       "    .dataframe thead th {\n",
       "        text-align: right;\n",
       "    }\n",
       "</style>\n",
       "<table border=\"1\" class=\"dataframe\">\n",
       "  <thead>\n",
       "    <tr style=\"text-align: right;\">\n",
       "      <th></th>\n",
       "      <th>Weight</th>\n",
       "    </tr>\n",
       "  </thead>\n",
       "  <tbody>\n",
       "    <tr>\n",
       "      <th>0</th>\n",
       "      <td>241.893563</td>\n",
       "    </tr>\n",
       "    <tr>\n",
       "      <th>1</th>\n",
       "      <td>162.310473</td>\n",
       "    </tr>\n",
       "    <tr>\n",
       "      <th>2</th>\n",
       "      <td>212.740856</td>\n",
       "    </tr>\n",
       "    <tr>\n",
       "      <th>3</th>\n",
       "      <td>220.042470</td>\n",
       "    </tr>\n",
       "    <tr>\n",
       "      <th>4</th>\n",
       "      <td>206.349801</td>\n",
       "    </tr>\n",
       "  </tbody>\n",
       "</table>\n",
       "</div>"
      ],
      "text/plain": [
       "       Weight\n",
       "0  241.893563\n",
       "1  162.310473\n",
       "2  212.740856\n",
       "3  220.042470\n",
       "4  206.349801"
      ]
     },
     "execution_count": 16,
     "metadata": {},
     "output_type": "execute_result"
    }
   ],
   "source": [
    "y.head() #print 1st 5 data"
   ]
  },
  {
   "cell_type": "code",
   "execution_count": 17,
   "id": "31a4c980",
   "metadata": {},
   "outputs": [
    {
     "name": "stdout",
     "output_type": "stream",
     "text": [
      "Requirement already satisfied: scikit-learn in c:\\users\\mohammadashik\\appdata\\local\\programs\\python\\python311\\lib\\site-packages (1.2.2)\n",
      "Requirement already satisfied: numpy>=1.17.3 in c:\\users\\mohammadashik\\appdata\\local\\programs\\python\\python311\\lib\\site-packages (from scikit-learn) (1.24.2)\n",
      "Requirement already satisfied: scipy>=1.3.2 in c:\\users\\mohammadashik\\appdata\\local\\programs\\python\\python311\\lib\\site-packages (from scikit-learn) (1.10.1)\n",
      "Requirement already satisfied: joblib>=1.1.1 in c:\\users\\mohammadashik\\appdata\\local\\programs\\python\\python311\\lib\\site-packages (from scikit-learn) (1.2.0)\n",
      "Requirement already satisfied: threadpoolctl>=2.0.0 in c:\\users\\mohammadashik\\appdata\\local\\programs\\python\\python311\\lib\\site-packages (from scikit-learn) (3.1.0)\n",
      "Note: you may need to restart the kernel to use updated packages.\n"
     ]
    }
   ],
   "source": [
    "%pip install scikit-learn"
   ]
  },
  {
   "cell_type": "code",
   "execution_count": 18,
   "id": "a79db576",
   "metadata": {},
   "outputs": [],
   "source": [
    "from sklearn.model_selection import train_test_split as tts # importporting Libraries"
   ]
  },
  {
   "cell_type": "code",
   "execution_count": 19,
   "id": "5ff3e4ff",
   "metadata": {},
   "outputs": [],
   "source": [
    "'''\n",
    "Train and test the value of X and Y\n",
    "Here test_size = total percentage of data that has to be test\n",
    "random_state use for not changing data\n",
    "'''\n",
    "\n",
    "x_trn, x_tst, y_trn, y_tst = tts(x, y, test_size=0.2, random_state=1) "
   ]
  },
  {
   "cell_type": "code",
   "execution_count": 20,
   "id": "a80d6eb6",
   "metadata": {},
   "outputs": [
    {
     "data": {
      "text/html": [
       "<div>\n",
       "<style scoped>\n",
       "    .dataframe tbody tr th:only-of-type {\n",
       "        vertical-align: middle;\n",
       "    }\n",
       "\n",
       "    .dataframe tbody tr th {\n",
       "        vertical-align: top;\n",
       "    }\n",
       "\n",
       "    .dataframe thead th {\n",
       "        text-align: right;\n",
       "    }\n",
       "</style>\n",
       "<table border=\"1\" class=\"dataframe\">\n",
       "  <thead>\n",
       "    <tr style=\"text-align: right;\">\n",
       "      <th></th>\n",
       "      <th>Height</th>\n",
       "    </tr>\n",
       "  </thead>\n",
       "  <tbody>\n",
       "    <tr>\n",
       "      <th>3246</th>\n",
       "      <td>69.575891</td>\n",
       "    </tr>\n",
       "    <tr>\n",
       "      <th>2118</th>\n",
       "      <td>63.992899</td>\n",
       "    </tr>\n",
       "    <tr>\n",
       "      <th>2583</th>\n",
       "      <td>67.174715</td>\n",
       "    </tr>\n",
       "    <tr>\n",
       "      <th>432</th>\n",
       "      <td>68.921041</td>\n",
       "    </tr>\n",
       "    <tr>\n",
       "      <th>1724</th>\n",
       "      <td>67.140186</td>\n",
       "    </tr>\n",
       "    <tr>\n",
       "      <th>1330</th>\n",
       "      <td>69.566693</td>\n",
       "    </tr>\n",
       "    <tr>\n",
       "      <th>725</th>\n",
       "      <td>70.485643</td>\n",
       "    </tr>\n",
       "    <tr>\n",
       "      <th>2605</th>\n",
       "      <td>67.979057</td>\n",
       "    </tr>\n",
       "    <tr>\n",
       "      <th>3283</th>\n",
       "      <td>72.617038</td>\n",
       "    </tr>\n",
       "    <tr>\n",
       "      <th>292</th>\n",
       "      <td>69.334198</td>\n",
       "    </tr>\n",
       "  </tbody>\n",
       "</table>\n",
       "</div>"
      ],
      "text/plain": [
       "         Height\n",
       "3246  69.575891\n",
       "2118  63.992899\n",
       "2583  67.174715\n",
       "432   68.921041\n",
       "1724  67.140186\n",
       "1330  69.566693\n",
       "725   70.485643\n",
       "2605  67.979057\n",
       "3283  72.617038\n",
       "292   69.334198"
      ]
     },
     "execution_count": 20,
     "metadata": {},
     "output_type": "execute_result"
    }
   ],
   "source": [
    "x_trn.head(10) #print 1st 10 data of Trained x"
   ]
  },
  {
   "cell_type": "code",
   "execution_count": 21,
   "id": "c30fae58",
   "metadata": {},
   "outputs": [
    {
     "data": {
      "text/html": [
       "<div>\n",
       "<style scoped>\n",
       "    .dataframe tbody tr th:only-of-type {\n",
       "        vertical-align: middle;\n",
       "    }\n",
       "\n",
       "    .dataframe tbody tr th {\n",
       "        vertical-align: top;\n",
       "    }\n",
       "\n",
       "    .dataframe thead th {\n",
       "        text-align: right;\n",
       "    }\n",
       "</style>\n",
       "<table border=\"1\" class=\"dataframe\">\n",
       "  <thead>\n",
       "    <tr style=\"text-align: right;\">\n",
       "      <th></th>\n",
       "      <th>Height</th>\n",
       "    </tr>\n",
       "  </thead>\n",
       "  <tbody>\n",
       "    <tr>\n",
       "      <th>719</th>\n",
       "      <td>67.402821</td>\n",
       "    </tr>\n",
       "    <tr>\n",
       "      <th>2296</th>\n",
       "      <td>69.560033</td>\n",
       "    </tr>\n",
       "    <tr>\n",
       "      <th>3083</th>\n",
       "      <td>65.809912</td>\n",
       "    </tr>\n",
       "    <tr>\n",
       "      <th>1296</th>\n",
       "      <td>67.687531</td>\n",
       "    </tr>\n",
       "    <tr>\n",
       "      <th>2234</th>\n",
       "      <td>65.077902</td>\n",
       "    </tr>\n",
       "    <tr>\n",
       "      <th>816</th>\n",
       "      <td>67.933384</td>\n",
       "    </tr>\n",
       "    <tr>\n",
       "      <th>2032</th>\n",
       "      <td>69.157778</td>\n",
       "    </tr>\n",
       "    <tr>\n",
       "      <th>2161</th>\n",
       "      <td>67.438047</td>\n",
       "    </tr>\n",
       "    <tr>\n",
       "      <th>254</th>\n",
       "      <td>69.164381</td>\n",
       "    </tr>\n",
       "    <tr>\n",
       "      <th>318</th>\n",
       "      <td>73.716528</td>\n",
       "    </tr>\n",
       "  </tbody>\n",
       "</table>\n",
       "</div>"
      ],
      "text/plain": [
       "         Height\n",
       "719   67.402821\n",
       "2296  69.560033\n",
       "3083  65.809912\n",
       "1296  67.687531\n",
       "2234  65.077902\n",
       "816   67.933384\n",
       "2032  69.157778\n",
       "2161  67.438047\n",
       "254   69.164381\n",
       "318   73.716528"
      ]
     },
     "execution_count": 21,
     "metadata": {},
     "output_type": "execute_result"
    }
   ],
   "source": [
    "x_tst.head(10) #print 1st 10 data of Tested X"
   ]
  },
  {
   "cell_type": "code",
   "execution_count": 22,
   "id": "983a775f",
   "metadata": {},
   "outputs": [
    {
     "data": {
      "text/html": [
       "<div>\n",
       "<style scoped>\n",
       "    .dataframe tbody tr th:only-of-type {\n",
       "        vertical-align: middle;\n",
       "    }\n",
       "\n",
       "    .dataframe tbody tr th {\n",
       "        vertical-align: top;\n",
       "    }\n",
       "\n",
       "    .dataframe thead th {\n",
       "        text-align: right;\n",
       "    }\n",
       "</style>\n",
       "<table border=\"1\" class=\"dataframe\">\n",
       "  <thead>\n",
       "    <tr style=\"text-align: right;\">\n",
       "      <th></th>\n",
       "      <th>Weight</th>\n",
       "    </tr>\n",
       "  </thead>\n",
       "  <tbody>\n",
       "    <tr>\n",
       "      <th>3246</th>\n",
       "      <td>206.600442</td>\n",
       "    </tr>\n",
       "    <tr>\n",
       "      <th>2118</th>\n",
       "      <td>154.963174</td>\n",
       "    </tr>\n",
       "    <tr>\n",
       "      <th>2583</th>\n",
       "      <td>178.674938</td>\n",
       "    </tr>\n",
       "    <tr>\n",
       "      <th>432</th>\n",
       "      <td>188.328807</td>\n",
       "    </tr>\n",
       "    <tr>\n",
       "      <th>1724</th>\n",
       "      <td>188.848499</td>\n",
       "    </tr>\n",
       "    <tr>\n",
       "      <th>1330</th>\n",
       "      <td>194.984263</td>\n",
       "    </tr>\n",
       "    <tr>\n",
       "      <th>725</th>\n",
       "      <td>193.359947</td>\n",
       "    </tr>\n",
       "    <tr>\n",
       "      <th>2605</th>\n",
       "      <td>179.415811</td>\n",
       "    </tr>\n",
       "    <tr>\n",
       "      <th>3283</th>\n",
       "      <td>199.056247</td>\n",
       "    </tr>\n",
       "    <tr>\n",
       "      <th>292</th>\n",
       "      <td>199.983891</td>\n",
       "    </tr>\n",
       "  </tbody>\n",
       "</table>\n",
       "</div>"
      ],
      "text/plain": [
       "          Weight\n",
       "3246  206.600442\n",
       "2118  154.963174\n",
       "2583  178.674938\n",
       "432   188.328807\n",
       "1724  188.848499\n",
       "1330  194.984263\n",
       "725   193.359947\n",
       "2605  179.415811\n",
       "3283  199.056247\n",
       "292   199.983891"
      ]
     },
     "execution_count": 22,
     "metadata": {},
     "output_type": "execute_result"
    }
   ],
   "source": [
    "y_trn.head(10) #print 1st 10 data of Trained Y"
   ]
  },
  {
   "cell_type": "code",
   "execution_count": 23,
   "id": "4931b601",
   "metadata": {},
   "outputs": [
    {
     "data": {
      "text/html": [
       "<div>\n",
       "<style scoped>\n",
       "    .dataframe tbody tr th:only-of-type {\n",
       "        vertical-align: middle;\n",
       "    }\n",
       "\n",
       "    .dataframe tbody tr th {\n",
       "        vertical-align: top;\n",
       "    }\n",
       "\n",
       "    .dataframe thead th {\n",
       "        text-align: right;\n",
       "    }\n",
       "</style>\n",
       "<table border=\"1\" class=\"dataframe\">\n",
       "  <thead>\n",
       "    <tr style=\"text-align: right;\">\n",
       "      <th></th>\n",
       "      <th>Weight</th>\n",
       "    </tr>\n",
       "  </thead>\n",
       "  <tbody>\n",
       "    <tr>\n",
       "      <th>719</th>\n",
       "      <td>192.672676</td>\n",
       "    </tr>\n",
       "    <tr>\n",
       "      <th>2296</th>\n",
       "      <td>187.491501</td>\n",
       "    </tr>\n",
       "    <tr>\n",
       "      <th>3083</th>\n",
       "      <td>191.563495</td>\n",
       "    </tr>\n",
       "    <tr>\n",
       "      <th>1296</th>\n",
       "      <td>177.909685</td>\n",
       "    </tr>\n",
       "    <tr>\n",
       "      <th>2234</th>\n",
       "      <td>165.313807</td>\n",
       "    </tr>\n",
       "    <tr>\n",
       "      <th>816</th>\n",
       "      <td>184.409520</td>\n",
       "    </tr>\n",
       "    <tr>\n",
       "      <th>2032</th>\n",
       "      <td>177.723979</td>\n",
       "    </tr>\n",
       "    <tr>\n",
       "      <th>2161</th>\n",
       "      <td>173.230660</td>\n",
       "    </tr>\n",
       "    <tr>\n",
       "      <th>254</th>\n",
       "      <td>196.892315</td>\n",
       "    </tr>\n",
       "    <tr>\n",
       "      <th>318</th>\n",
       "      <td>223.514722</td>\n",
       "    </tr>\n",
       "  </tbody>\n",
       "</table>\n",
       "</div>"
      ],
      "text/plain": [
       "          Weight\n",
       "719   192.672676\n",
       "2296  187.491501\n",
       "3083  191.563495\n",
       "1296  177.909685\n",
       "2234  165.313807\n",
       "816   184.409520\n",
       "2032  177.723979\n",
       "2161  173.230660\n",
       "254   196.892315\n",
       "318   223.514722"
      ]
     },
     "execution_count": 23,
     "metadata": {},
     "output_type": "execute_result"
    }
   ],
   "source": [
    "y_tst.head(10)  #print 1st 10 data of Tested y"
   ]
  },
  {
   "cell_type": "markdown",
   "id": "d6560354",
   "metadata": {},
   "source": [
    "# Linear Regression"
   ]
  },
  {
   "cell_type": "code",
   "execution_count": 24,
   "id": "80846c63",
   "metadata": {},
   "outputs": [],
   "source": [
    "# Importing LinearRegression calss from sklearn.linear_model library\n",
    "from sklearn.linear_model import LinearRegression"
   ]
  },
  {
   "cell_type": "code",
   "execution_count": 25,
   "id": "a187487a",
   "metadata": {},
   "outputs": [],
   "source": [
    "LinReg = LinearRegression() #Creating LinearRegration calss object"
   ]
  },
  {
   "cell_type": "code",
   "execution_count": 26,
   "id": "f610a3af",
   "metadata": {},
   "outputs": [
    {
     "data": {
      "text/html": [
       "<style>#sk-container-id-1 {color: black;background-color: white;}#sk-container-id-1 pre{padding: 0;}#sk-container-id-1 div.sk-toggleable {background-color: white;}#sk-container-id-1 label.sk-toggleable__label {cursor: pointer;display: block;width: 100%;margin-bottom: 0;padding: 0.3em;box-sizing: border-box;text-align: center;}#sk-container-id-1 label.sk-toggleable__label-arrow:before {content: \"▸\";float: left;margin-right: 0.25em;color: #696969;}#sk-container-id-1 label.sk-toggleable__label-arrow:hover:before {color: black;}#sk-container-id-1 div.sk-estimator:hover label.sk-toggleable__label-arrow:before {color: black;}#sk-container-id-1 div.sk-toggleable__content {max-height: 0;max-width: 0;overflow: hidden;text-align: left;background-color: #f0f8ff;}#sk-container-id-1 div.sk-toggleable__content pre {margin: 0.2em;color: black;border-radius: 0.25em;background-color: #f0f8ff;}#sk-container-id-1 input.sk-toggleable__control:checked~div.sk-toggleable__content {max-height: 200px;max-width: 100%;overflow: auto;}#sk-container-id-1 input.sk-toggleable__control:checked~label.sk-toggleable__label-arrow:before {content: \"▾\";}#sk-container-id-1 div.sk-estimator input.sk-toggleable__control:checked~label.sk-toggleable__label {background-color: #d4ebff;}#sk-container-id-1 div.sk-label input.sk-toggleable__control:checked~label.sk-toggleable__label {background-color: #d4ebff;}#sk-container-id-1 input.sk-hidden--visually {border: 0;clip: rect(1px 1px 1px 1px);clip: rect(1px, 1px, 1px, 1px);height: 1px;margin: -1px;overflow: hidden;padding: 0;position: absolute;width: 1px;}#sk-container-id-1 div.sk-estimator {font-family: monospace;background-color: #f0f8ff;border: 1px dotted black;border-radius: 0.25em;box-sizing: border-box;margin-bottom: 0.5em;}#sk-container-id-1 div.sk-estimator:hover {background-color: #d4ebff;}#sk-container-id-1 div.sk-parallel-item::after {content: \"\";width: 100%;border-bottom: 1px solid gray;flex-grow: 1;}#sk-container-id-1 div.sk-label:hover label.sk-toggleable__label {background-color: #d4ebff;}#sk-container-id-1 div.sk-serial::before {content: \"\";position: absolute;border-left: 1px solid gray;box-sizing: border-box;top: 0;bottom: 0;left: 50%;z-index: 0;}#sk-container-id-1 div.sk-serial {display: flex;flex-direction: column;align-items: center;background-color: white;padding-right: 0.2em;padding-left: 0.2em;position: relative;}#sk-container-id-1 div.sk-item {position: relative;z-index: 1;}#sk-container-id-1 div.sk-parallel {display: flex;align-items: stretch;justify-content: center;background-color: white;position: relative;}#sk-container-id-1 div.sk-item::before, #sk-container-id-1 div.sk-parallel-item::before {content: \"\";position: absolute;border-left: 1px solid gray;box-sizing: border-box;top: 0;bottom: 0;left: 50%;z-index: -1;}#sk-container-id-1 div.sk-parallel-item {display: flex;flex-direction: column;z-index: 1;position: relative;background-color: white;}#sk-container-id-1 div.sk-parallel-item:first-child::after {align-self: flex-end;width: 50%;}#sk-container-id-1 div.sk-parallel-item:last-child::after {align-self: flex-start;width: 50%;}#sk-container-id-1 div.sk-parallel-item:only-child::after {width: 0;}#sk-container-id-1 div.sk-dashed-wrapped {border: 1px dashed gray;margin: 0 0.4em 0.5em 0.4em;box-sizing: border-box;padding-bottom: 0.4em;background-color: white;}#sk-container-id-1 div.sk-label label {font-family: monospace;font-weight: bold;display: inline-block;line-height: 1.2em;}#sk-container-id-1 div.sk-label-container {text-align: center;}#sk-container-id-1 div.sk-container {/* jupyter's `normalize.less` sets `[hidden] { display: none; }` but bootstrap.min.css set `[hidden] { display: none !important; }` so we also need the `!important` here to be able to override the default hidden behavior on the sphinx rendered scikit-learn.org. See: https://github.com/scikit-learn/scikit-learn/issues/21755 */display: inline-block !important;position: relative;}#sk-container-id-1 div.sk-text-repr-fallback {display: none;}</style><div id=\"sk-container-id-1\" class=\"sk-top-container\"><div class=\"sk-text-repr-fallback\"><pre>LinearRegression()</pre><b>In a Jupyter environment, please rerun this cell to show the HTML representation or trust the notebook. <br />On GitHub, the HTML representation is unable to render, please try loading this page with nbviewer.org.</b></div><div class=\"sk-container\" hidden><div class=\"sk-item\"><div class=\"sk-estimator sk-toggleable\"><input class=\"sk-toggleable__control sk-hidden--visually\" id=\"sk-estimator-id-1\" type=\"checkbox\" checked><label for=\"sk-estimator-id-1\" class=\"sk-toggleable__label sk-toggleable__label-arrow\">LinearRegression</label><div class=\"sk-toggleable__content\"><pre>LinearRegression()</pre></div></div></div></div></div>"
      ],
      "text/plain": [
       "LinearRegression()"
      ]
     },
     "execution_count": 26,
     "metadata": {},
     "output_type": "execute_result"
    }
   ],
   "source": [
    "LinReg.fit(x_trn, y_trn)  #LinearRegression.fit(X, y), the model will have learned the coefficients and intercept needed to make predictions using the predict() method"
   ]
  },
  {
   "cell_type": "code",
   "execution_count": 27,
   "id": "66c4ed51",
   "metadata": {},
   "outputs": [
    {
     "data": {
      "text/plain": [
       "array([[215.60694455]])"
      ]
     },
     "execution_count": 27,
     "metadata": {},
     "output_type": "execute_result"
    }
   ],
   "source": [
    "LinReg.predict([[73.847017]]) # The pradiction of target data"
   ]
  },
  {
   "cell_type": "code",
   "execution_count": 28,
   "id": "d1d4ef82",
   "metadata": {},
   "outputs": [
    {
     "data": {
      "text/plain": [
       "array([[215.60694455]])"
      ]
     },
     "execution_count": 28,
     "metadata": {},
     "output_type": "execute_result"
    }
   ],
   "source": [
    "#Proof of this result\n",
    "m =LinReg.coef_\n",
    "c = LinReg.intercept_\n",
    "prediction_value = (m*73.847017) + c # y = mx + c\n",
    "prediction_value"
   ]
  },
  {
   "cell_type": "code",
   "execution_count": 29,
   "id": "7a9aba84",
   "metadata": {},
   "outputs": [
    {
     "data": {
      "text/plain": [
       "array([[177.08348257],\n",
       "       [189.97931446],\n",
       "       [167.56105707],\n",
       "       [178.78547886],\n",
       "       [163.18509437],\n",
       "       [180.25519153],\n",
       "       [187.5746301 ],\n",
       "       [177.29406308],\n",
       "       [187.61410451],\n",
       "       [214.82687791],\n",
       "       [146.54705769],\n",
       "       [205.53609201],\n",
       "       [178.63524049],\n",
       "       [182.16876965],\n",
       "       [221.10928254],\n",
       "       [196.04746384],\n",
       "       [174.66519041],\n",
       "       [180.50000529],\n",
       "       [174.52687291],\n",
       "       [219.61734596],\n",
       "       [209.17973484],\n",
       "       [180.29820038],\n",
       "       [166.30726829],\n",
       "       [190.45561742],\n",
       "       [162.41180308],\n",
       "       [186.69252404],\n",
       "       [190.41647904],\n",
       "       [179.34185839],\n",
       "       [161.77205047],\n",
       "       [181.25788043],\n",
       "       [147.18573982],\n",
       "       [201.08593379],\n",
       "       [189.09154018],\n",
       "       [206.86396518],\n",
       "       [194.06129799],\n",
       "       [163.9082029 ],\n",
       "       [219.63585423],\n",
       "       [178.135123  ],\n",
       "       [190.46824322],\n",
       "       [161.75211608],\n",
       "       [192.0001994 ],\n",
       "       [180.53363931],\n",
       "       [191.18625621],\n",
       "       [183.69534066],\n",
       "       [193.07163212],\n",
       "       [214.25906472],\n",
       "       [176.83242358],\n",
       "       [197.31231182],\n",
       "       [190.08986292],\n",
       "       [185.13039464],\n",
       "       [181.43816242],\n",
       "       [201.55338182],\n",
       "       [173.80328673],\n",
       "       [177.33236514],\n",
       "       [159.2015133 ],\n",
       "       [161.11684495],\n",
       "       [195.53300295],\n",
       "       [141.6637074 ],\n",
       "       [137.1399713 ],\n",
       "       [181.00515179],\n",
       "       [177.46765825],\n",
       "       [190.22587781],\n",
       "       [205.84453492],\n",
       "       [171.14073066],\n",
       "       [182.73685245],\n",
       "       [190.75503546],\n",
       "       [170.33734727],\n",
       "       [192.98065316],\n",
       "       [174.02523592],\n",
       "       [215.9233109 ],\n",
       "       [190.62309296],\n",
       "       [180.61068819],\n",
       "       [194.08394304],\n",
       "       [176.59301771],\n",
       "       [160.94866275],\n",
       "       [203.18133419],\n",
       "       [198.57876016],\n",
       "       [194.24634947],\n",
       "       [198.39177013],\n",
       "       [222.70207883],\n",
       "       [167.48956678],\n",
       "       [181.84028146],\n",
       "       [200.35212695],\n",
       "       [196.74381845],\n",
       "       [241.00661145],\n",
       "       [180.26479568],\n",
       "       [197.16985652],\n",
       "       [216.09778172],\n",
       "       [181.48869603],\n",
       "       [158.93338381],\n",
       "       [200.40581622],\n",
       "       [165.27190365],\n",
       "       [184.18655373],\n",
       "       [175.86762139],\n",
       "       [173.71207606],\n",
       "       [183.78198653],\n",
       "       [161.10303521],\n",
       "       [212.88079341],\n",
       "       [144.34866887],\n",
       "       [186.83363088],\n",
       "       [214.19134033],\n",
       "       [192.23521957],\n",
       "       [154.02958107],\n",
       "       [155.09580174],\n",
       "       [197.95312307],\n",
       "       [129.12686793],\n",
       "       [156.80817705],\n",
       "       [204.29565936],\n",
       "       [204.38926452],\n",
       "       [190.9767591 ],\n",
       "       [173.04983621],\n",
       "       [202.95724648],\n",
       "       [187.86498553],\n",
       "       [143.43148122],\n",
       "       [233.51503832],\n",
       "       [194.49280975],\n",
       "       [165.57847945],\n",
       "       [199.77072503],\n",
       "       [182.63304181],\n",
       "       [203.67550876],\n",
       "       [194.68832598],\n",
       "       [213.6658487 ],\n",
       "       [213.13037176],\n",
       "       [198.60873348],\n",
       "       [185.34664643],\n",
       "       [160.17919433],\n",
       "       [151.83103425],\n",
       "       [184.7127002 ],\n",
       "       [150.76366179],\n",
       "       [188.21643974],\n",
       "       [169.41556935],\n",
       "       [188.32362832],\n",
       "       [192.56971058],\n",
       "       [198.79566033],\n",
       "       [197.37378954],\n",
       "       [201.81138229],\n",
       "       [227.79261479],\n",
       "       [166.61161525],\n",
       "       [167.11785907],\n",
       "       [170.99042624],\n",
       "       [179.54322296],\n",
       "       [192.75322129],\n",
       "       [196.71183533],\n",
       "       [199.92429781],\n",
       "       [175.29444432],\n",
       "       [189.91641188],\n",
       "       [176.06054424],\n",
       "       [190.93017899],\n",
       "       [198.63460702],\n",
       "       [181.72466891],\n",
       "       [186.57571966],\n",
       "       [158.70564246],\n",
       "       [209.83631238],\n",
       "       [174.7799478 ],\n",
       "       [210.88029563],\n",
       "       [195.92153821],\n",
       "       [155.95181732],\n",
       "       [195.8615257 ],\n",
       "       [189.79781176],\n",
       "       [186.01581233],\n",
       "       [184.80807616],\n",
       "       [170.09568577],\n",
       "       [196.94516473],\n",
       "       [184.84486758],\n",
       "       [195.49222247],\n",
       "       [195.6338803 ],\n",
       "       [195.29281677],\n",
       "       [198.63850564],\n",
       "       [160.37660571],\n",
       "       [199.42908623],\n",
       "       [196.15874669],\n",
       "       [168.24881136],\n",
       "       [187.77607179],\n",
       "       [183.09154381],\n",
       "       [136.89330513],\n",
       "       [195.17086173],\n",
       "       [171.41405887],\n",
       "       [193.4281136 ],\n",
       "       [171.51469309],\n",
       "       [178.01801296],\n",
       "       [184.78048114],\n",
       "       [160.82382016],\n",
       "       [177.10949032],\n",
       "       [211.14650828],\n",
       "       [177.79065756],\n",
       "       [176.83983793],\n",
       "       [213.98259256],\n",
       "       [148.93006507],\n",
       "       [186.28266725],\n",
       "       [185.24838822],\n",
       "       [180.7931552 ],\n",
       "       [208.4994181 ],\n",
       "       [155.03736348],\n",
       "       [183.87544128],\n",
       "       [159.35602086],\n",
       "       [175.85613698],\n",
       "       [183.22882992],\n",
       "       [202.2254265 ],\n",
       "       [178.32106502],\n",
       "       [200.09980116],\n",
       "       [188.33793011],\n",
       "       [205.82175793],\n",
       "       [201.37142389],\n",
       "       [188.73442216],\n",
       "       [201.2998942 ],\n",
       "       [192.51621457],\n",
       "       [195.89228387],\n",
       "       [176.35838456],\n",
       "       [167.23577392],\n",
       "       [189.75534327],\n",
       "       [179.31281315],\n",
       "       [189.98686852],\n",
       "       [206.45944352],\n",
       "       [184.22623642],\n",
       "       [207.82940845],\n",
       "       [187.27047145],\n",
       "       [178.86216105],\n",
       "       [230.23613199],\n",
       "       [175.1148208 ],\n",
       "       [188.40051723],\n",
       "       [142.54876283],\n",
       "       [174.10620238],\n",
       "       [181.64479751],\n",
       "       [178.01891827],\n",
       "       [205.26039143],\n",
       "       [191.23191481],\n",
       "       [188.13057264],\n",
       "       [180.83405268],\n",
       "       [173.0947793 ],\n",
       "       [177.35489973],\n",
       "       [205.92087045],\n",
       "       [177.27720946],\n",
       "       [182.85372731],\n",
       "       [192.83157398],\n",
       "       [187.2705833 ],\n",
       "       [186.83507415],\n",
       "       [186.71114955],\n",
       "       [173.85666485],\n",
       "       [200.76102462],\n",
       "       [193.23585502],\n",
       "       [172.69506086],\n",
       "       [188.20220861],\n",
       "       [180.08205506],\n",
       "       [195.37135926],\n",
       "       [177.98841542],\n",
       "       [167.00114508],\n",
       "       [231.30437676],\n",
       "       [186.89366773],\n",
       "       [205.76636653],\n",
       "       [165.82521963],\n",
       "       [177.68215263],\n",
       "       [210.07340124],\n",
       "       [168.41200527],\n",
       "       [218.92267655],\n",
       "       [183.68914571],\n",
       "       [200.77478032],\n",
       "       [204.30616924],\n",
       "       [187.79892865],\n",
       "       [218.95142766],\n",
       "       [161.95762192],\n",
       "       [176.15618276],\n",
       "       [190.8067612 ],\n",
       "       [214.70929997],\n",
       "       [192.29919975],\n",
       "       [180.64391409],\n",
       "       [210.99388139],\n",
       "       [174.96057663],\n",
       "       [203.13291225],\n",
       "       [178.80879028],\n",
       "       [167.53776113],\n",
       "       [193.03877722],\n",
       "       [170.31300559],\n",
       "       [182.51894343],\n",
       "       [200.96256722],\n",
       "       [167.83716816],\n",
       "       [210.46617473],\n",
       "       [215.57626182],\n",
       "       [161.25601898],\n",
       "       [153.24178361],\n",
       "       [205.35920738],\n",
       "       [212.3480254 ],\n",
       "       [202.02315243],\n",
       "       [170.29387136],\n",
       "       [184.68236079],\n",
       "       [179.68490076],\n",
       "       [191.61623785],\n",
       "       [197.96563367],\n",
       "       [190.28640694],\n",
       "       [191.17528627],\n",
       "       [181.67264218],\n",
       "       [188.00445655],\n",
       "       [194.99989396],\n",
       "       [198.98741729],\n",
       "       [177.19360461],\n",
       "       [167.35628862],\n",
       "       [161.32250956],\n",
       "       [200.49699479],\n",
       "       [195.23511182],\n",
       "       [178.07322633],\n",
       "       [202.86470433],\n",
       "       [191.45144578],\n",
       "       [206.36070343],\n",
       "       [160.80781607],\n",
       "       [163.42781583],\n",
       "       [193.37395379],\n",
       "       [176.30228775],\n",
       "       [166.93219137],\n",
       "       [186.36409664],\n",
       "       [210.31430502],\n",
       "       [186.36442436],\n",
       "       [176.37022436],\n",
       "       [216.6754169 ],\n",
       "       [186.18492824],\n",
       "       [201.26351575],\n",
       "       [216.44887253],\n",
       "       [195.54178303],\n",
       "       [187.17282025],\n",
       "       [170.89456551],\n",
       "       [203.94999198],\n",
       "       [197.78529447],\n",
       "       [189.96747203],\n",
       "       [187.11365781],\n",
       "       [181.58280352],\n",
       "       [189.08962255],\n",
       "       [170.95955161],\n",
       "       [195.44974841],\n",
       "       [198.39367652],\n",
       "       [178.27813664],\n",
       "       [175.72823365],\n",
       "       [164.34279968],\n",
       "       [188.26230895],\n",
       "       [187.66907709],\n",
       "       [179.93849682],\n",
       "       [199.34715337],\n",
       "       [198.84663541],\n",
       "       [166.70957019],\n",
       "       [139.2526442 ],\n",
       "       [190.21092675],\n",
       "       [161.79377049],\n",
       "       [180.48437137],\n",
       "       [208.72172202],\n",
       "       [230.0835955 ],\n",
       "       [184.00701224],\n",
       "       [222.76249038],\n",
       "       [165.88090544],\n",
       "       [211.52434003],\n",
       "       [180.60627971],\n",
       "       [180.93317028],\n",
       "       [193.17207355],\n",
       "       [202.14934103],\n",
       "       [191.64493236],\n",
       "       [172.13408341],\n",
       "       [194.47275341],\n",
       "       [177.72987758],\n",
       "       [188.38142323],\n",
       "       [201.32934911],\n",
       "       [213.71351663],\n",
       "       [211.39938685],\n",
       "       [223.37770416],\n",
       "       [162.25512161],\n",
       "       [199.16201592],\n",
       "       [222.23086555],\n",
       "       [198.54646511],\n",
       "       [170.53307578],\n",
       "       [182.01024779],\n",
       "       [205.74618866],\n",
       "       [181.62273698],\n",
       "       [188.08134236],\n",
       "       [183.39071812],\n",
       "       [178.20344548],\n",
       "       [198.42415641],\n",
       "       [188.86817168],\n",
       "       [172.49159286],\n",
       "       [178.11559613],\n",
       "       [174.9603845 ],\n",
       "       [182.67540682],\n",
       "       [201.14943782],\n",
       "       [170.57794791],\n",
       "       [189.93154132],\n",
       "       [161.41967523],\n",
       "       [190.03758074],\n",
       "       [191.14546892],\n",
       "       [189.70773716],\n",
       "       [199.20995991],\n",
       "       [202.14306902],\n",
       "       [174.17823715],\n",
       "       [164.38905536],\n",
       "       [143.37760369],\n",
       "       [192.39907943],\n",
       "       [199.61226791],\n",
       "       [170.21362287],\n",
       "       [206.32743868],\n",
       "       [183.8877787 ],\n",
       "       [213.00712052],\n",
       "       [177.80984936],\n",
       "       [220.62892416],\n",
       "       [149.01175989],\n",
       "       [152.39628006],\n",
       "       [197.78410281],\n",
       "       [198.18842038],\n",
       "       [186.64437674],\n",
       "       [172.45419808],\n",
       "       [205.93981692],\n",
       "       [185.09895282],\n",
       "       [181.56527528],\n",
       "       [193.87888179],\n",
       "       [178.72146161],\n",
       "       [194.400366  ],\n",
       "       [192.7973943 ],\n",
       "       [197.7732483 ],\n",
       "       [180.27085995],\n",
       "       [167.62122944],\n",
       "       [184.96122744],\n",
       "       [215.64667249],\n",
       "       [226.58131937],\n",
       "       [190.25545245],\n",
       "       [179.16953863],\n",
       "       [171.61007875],\n",
       "       [201.31738215],\n",
       "       [162.1800915 ],\n",
       "       [176.80716016],\n",
       "       [172.80425392],\n",
       "       [197.53916351],\n",
       "       [192.58949133],\n",
       "       [181.42453041],\n",
       "       [203.36219843],\n",
       "       [200.64273608],\n",
       "       [176.41367319],\n",
       "       [182.08064567],\n",
       "       [197.62568653],\n",
       "       [183.99126599],\n",
       "       [173.85478357],\n",
       "       [214.62325813],\n",
       "       [172.73619046],\n",
       "       [205.74450376],\n",
       "       [178.36015744],\n",
       "       [159.63488806],\n",
       "       [174.91806037],\n",
       "       [191.90281638],\n",
       "       [185.01796024],\n",
       "       [177.33587166],\n",
       "       [184.66638575],\n",
       "       [181.38733392],\n",
       "       [203.46613892],\n",
       "       [207.09273127],\n",
       "       [216.84337098],\n",
       "       [193.17696452],\n",
       "       [160.02314678],\n",
       "       [179.30759662],\n",
       "       [176.29913334],\n",
       "       [187.12429173],\n",
       "       [188.66196737],\n",
       "       [202.39528475],\n",
       "       [183.31101864],\n",
       "       [162.35542758],\n",
       "       [168.78365738],\n",
       "       [206.24169639],\n",
       "       [157.31722199],\n",
       "       [207.32447818],\n",
       "       [183.01712985],\n",
       "       [182.94314499],\n",
       "       [182.92492438],\n",
       "       [199.7107873 ],\n",
       "       [187.5698731 ],\n",
       "       [198.48148002],\n",
       "       [197.5072474 ],\n",
       "       [190.29589339],\n",
       "       [160.71814964],\n",
       "       [184.33475342],\n",
       "       [171.46788158],\n",
       "       [193.00357003],\n",
       "       [221.55197133],\n",
       "       [187.454505  ],\n",
       "       [181.70738517],\n",
       "       [182.01410564],\n",
       "       [172.04951771],\n",
       "       [195.25033076],\n",
       "       [185.344469  ],\n",
       "       [190.03384772],\n",
       "       [224.19034946],\n",
       "       [152.09542623],\n",
       "       [198.85500313],\n",
       "       [210.48916257],\n",
       "       [207.91802425],\n",
       "       [179.43676209],\n",
       "       [169.17540086],\n",
       "       [166.56077001],\n",
       "       [187.95058997],\n",
       "       [171.46765531],\n",
       "       [204.32961517],\n",
       "       [205.58058669],\n",
       "       [199.79297434],\n",
       "       [181.62690539],\n",
       "       [202.65457617],\n",
       "       [149.59282818],\n",
       "       [206.88235132],\n",
       "       [168.61949945],\n",
       "       [179.06160454],\n",
       "       [156.61382385],\n",
       "       [190.57544524],\n",
       "       [166.93254067],\n",
       "       [198.4447231 ],\n",
       "       [161.98292187],\n",
       "       [195.78900205],\n",
       "       [163.93580552],\n",
       "       [180.07559128],\n",
       "       [158.94998241],\n",
       "       [179.301117  ],\n",
       "       [213.31012051],\n",
       "       [181.7933343 ],\n",
       "       [170.51494543],\n",
       "       [154.43996578],\n",
       "       [183.42964578],\n",
       "       [161.54496976],\n",
       "       [140.66531549],\n",
       "       [163.88138436],\n",
       "       [200.92762917],\n",
       "       [183.06690228],\n",
       "       [212.28610943],\n",
       "       [210.9957445 ],\n",
       "       [194.87235128],\n",
       "       [195.85335472],\n",
       "       [232.16919185],\n",
       "       [175.53768981],\n",
       "       [205.69785018],\n",
       "       [203.62875637],\n",
       "       [169.69253595],\n",
       "       [187.65105022],\n",
       "       [190.14219835],\n",
       "       [188.38996909],\n",
       "       [139.5356523 ],\n",
       "       [189.99844039],\n",
       "       [182.33324537],\n",
       "       [202.79344252],\n",
       "       [191.74874192],\n",
       "       [188.64495486],\n",
       "       [174.00479741],\n",
       "       [150.45820669],\n",
       "       [180.43184947],\n",
       "       [172.40930658],\n",
       "       [191.23540209],\n",
       "       [169.40737212],\n",
       "       [204.37599095],\n",
       "       [176.92539041],\n",
       "       [206.41424828],\n",
       "       [198.57593992],\n",
       "       [182.89237263],\n",
       "       [199.77298687],\n",
       "       [198.36011263],\n",
       "       [192.50118932],\n",
       "       [216.72830399],\n",
       "       [193.63454334],\n",
       "       [169.26124692],\n",
       "       [180.94354081],\n",
       "       [168.29331249],\n",
       "       [186.89572464],\n",
       "       [180.86698123],\n",
       "       [213.28847617],\n",
       "       [192.62127916],\n",
       "       [170.79766587],\n",
       "       [165.44450043],\n",
       "       [191.97465848],\n",
       "       [197.10497653],\n",
       "       [194.54328741],\n",
       "       [186.70709783],\n",
       "       [163.9540519 ],\n",
       "       [203.80376641],\n",
       "       [201.09253345],\n",
       "       [180.74312961],\n",
       "       [189.26626375],\n",
       "       [189.26377893],\n",
       "       [192.90656255],\n",
       "       [166.07828418],\n",
       "       [185.39389165],\n",
       "       [175.5394156 ],\n",
       "       [199.46445775],\n",
       "       [185.8123713 ],\n",
       "       [154.1187007 ],\n",
       "       [190.98823502],\n",
       "       [189.45960709],\n",
       "       [199.43063645],\n",
       "       [179.08270966],\n",
       "       [186.41344128],\n",
       "       [193.55562704],\n",
       "       [188.30350114],\n",
       "       [173.02954996],\n",
       "       [210.92183736],\n",
       "       [175.2207204 ],\n",
       "       [175.40176076],\n",
       "       [154.32899385],\n",
       "       [186.11884487],\n",
       "       [196.75722886],\n",
       "       [186.341709  ],\n",
       "       [183.38558313],\n",
       "       [205.2979188 ],\n",
       "       [215.9456179 ],\n",
       "       [172.77585879],\n",
       "       [163.60825211],\n",
       "       [179.48168001],\n",
       "       [194.92942375],\n",
       "       [209.43100061],\n",
       "       [149.28607746],\n",
       "       [199.75544799],\n",
       "       [172.41382494],\n",
       "       [175.88275048],\n",
       "       [243.59116161],\n",
       "       [164.07698434],\n",
       "       [190.69086087],\n",
       "       [144.41068671],\n",
       "       [215.41785229],\n",
       "       [195.11994326],\n",
       "       [199.7626491 ],\n",
       "       [188.6781022 ],\n",
       "       [207.55898777],\n",
       "       [215.01950963],\n",
       "       [174.90775112],\n",
       "       [192.76516267],\n",
       "       [190.25340433],\n",
       "       [169.1930327 ],\n",
       "       [218.91661616],\n",
       "       [212.73077084],\n",
       "       [153.39518129],\n",
       "       [197.27788458],\n",
       "       [195.46448696],\n",
       "       [169.12701246],\n",
       "       [160.41173895],\n",
       "       [190.4246386 ],\n",
       "       [172.98615888],\n",
       "       [182.26159325],\n",
       "       [217.43649936],\n",
       "       [205.04490327],\n",
       "       [148.4915264 ],\n",
       "       [194.42773261],\n",
       "       [185.78528864],\n",
       "       [175.89054293],\n",
       "       [198.36846946],\n",
       "       [166.45568552],\n",
       "       [175.28827716],\n",
       "       [160.94997133],\n",
       "       [148.80550202],\n",
       "       [200.31416223],\n",
       "       [188.99212588],\n",
       "       [201.00896524],\n",
       "       [158.90829739],\n",
       "       [172.45010189],\n",
       "       [184.15984794],\n",
       "       [199.28195589],\n",
       "       [174.28475445],\n",
       "       [192.05396866],\n",
       "       [166.26049396],\n",
       "       [175.39483428],\n",
       "       [197.61398332],\n",
       "       [199.83801589],\n",
       "       [182.54991645],\n",
       "       [213.9813208 ],\n",
       "       [212.96669943],\n",
       "       [162.99106086],\n",
       "       [190.75535295],\n",
       "       [214.14824821],\n",
       "       [216.43719688],\n",
       "       [189.41634083],\n",
       "       [186.75405988],\n",
       "       [153.24524338],\n",
       "       [182.18592199],\n",
       "       [195.4949155 ],\n",
       "       [197.48677906],\n",
       "       [180.62473096],\n",
       "       [203.91185246],\n",
       "       [185.15959135],\n",
       "       [193.19072936],\n",
       "       [175.3356701 ],\n",
       "       [176.50812161],\n",
       "       [189.14167248],\n",
       "       [181.06544055],\n",
       "       [167.31360157],\n",
       "       [185.95213207],\n",
       "       [215.99869634],\n",
       "       [205.67732361],\n",
       "       [154.96749496],\n",
       "       [201.35503506],\n",
       "       [180.49411181],\n",
       "       [179.58391748],\n",
       "       [204.2533378 ],\n",
       "       [218.55914771],\n",
       "       [196.89830097],\n",
       "       [183.89032067],\n",
       "       [206.11445303],\n",
       "       [200.69893624],\n",
       "       [197.28560889],\n",
       "       [182.19005298],\n",
       "       [213.50175349],\n",
       "       [186.81712668],\n",
       "       [197.98676085],\n",
       "       [203.25661932],\n",
       "       [198.90164882],\n",
       "       [202.89527372],\n",
       "       [184.8481745 ],\n",
       "       [190.11129898],\n",
       "       [191.91270992],\n",
       "       [208.72390782],\n",
       "       [181.6573417 ]])"
      ]
     },
     "execution_count": 29,
     "metadata": {},
     "output_type": "execute_result"
    }
   ],
   "source": [
    "LinReg.predict(x_tst) # Printing the prediction of Tested X data"
   ]
  },
  {
   "cell_type": "code",
   "execution_count": 30,
   "id": "959c9377",
   "metadata": {},
   "outputs": [
    {
     "data": {
      "text/plain": [
       "array([[190.07411594],\n",
       "       [156.69893766],\n",
       "       [175.71986085],\n",
       "       ...,\n",
       "       [228.47723982],\n",
       "       [195.92869407],\n",
       "       [194.21967673]])"
      ]
     },
     "execution_count": 30,
     "metadata": {},
     "output_type": "execute_result"
    }
   ],
   "source": [
    "LinReg.predict(x_trn) # Printing the prediction of Trained X data"
   ]
  },
  {
   "cell_type": "code",
   "execution_count": 31,
   "id": "4ab3f9a1",
   "metadata": {},
   "outputs": [],
   "source": [
    "dataFream = df.copy() #Copy df object to dataFrame variable"
   ]
  },
  {
   "cell_type": "code",
   "execution_count": 32,
   "id": "d7c008bd",
   "metadata": {},
   "outputs": [
    {
     "data": {
      "text/html": [
       "<div>\n",
       "<style scoped>\n",
       "    .dataframe tbody tr th:only-of-type {\n",
       "        vertical-align: middle;\n",
       "    }\n",
       "\n",
       "    .dataframe tbody tr th {\n",
       "        vertical-align: top;\n",
       "    }\n",
       "\n",
       "    .dataframe thead th {\n",
       "        text-align: right;\n",
       "    }\n",
       "</style>\n",
       "<table border=\"1\" class=\"dataframe\">\n",
       "  <thead>\n",
       "    <tr style=\"text-align: right;\">\n",
       "      <th></th>\n",
       "      <th>Height</th>\n",
       "      <th>Weight</th>\n",
       "    </tr>\n",
       "  </thead>\n",
       "  <tbody>\n",
       "    <tr>\n",
       "      <th>0</th>\n",
       "      <td>73.847017</td>\n",
       "      <td>241.893563</td>\n",
       "    </tr>\n",
       "    <tr>\n",
       "      <th>1</th>\n",
       "      <td>68.781904</td>\n",
       "      <td>162.310473</td>\n",
       "    </tr>\n",
       "    <tr>\n",
       "      <th>2</th>\n",
       "      <td>74.110105</td>\n",
       "      <td>212.740856</td>\n",
       "    </tr>\n",
       "    <tr>\n",
       "      <th>3</th>\n",
       "      <td>71.730978</td>\n",
       "      <td>220.042470</td>\n",
       "    </tr>\n",
       "    <tr>\n",
       "      <th>4</th>\n",
       "      <td>69.881796</td>\n",
       "      <td>206.349801</td>\n",
       "    </tr>\n",
       "    <tr>\n",
       "      <th>...</th>\n",
       "      <td>...</td>\n",
       "      <td>...</td>\n",
       "    </tr>\n",
       "    <tr>\n",
       "      <th>3496</th>\n",
       "      <td>69.296830</td>\n",
       "      <td>185.649086</td>\n",
       "    </tr>\n",
       "    <tr>\n",
       "      <th>3497</th>\n",
       "      <td>70.542201</td>\n",
       "      <td>210.198845</td>\n",
       "    </tr>\n",
       "    <tr>\n",
       "      <th>3498</th>\n",
       "      <td>73.912549</td>\n",
       "      <td>202.429960</td>\n",
       "    </tr>\n",
       "    <tr>\n",
       "      <th>3499</th>\n",
       "      <td>67.396021</td>\n",
       "      <td>144.277671</td>\n",
       "    </tr>\n",
       "    <tr>\n",
       "      <th>3500</th>\n",
       "      <td>72.738970</td>\n",
       "      <td>187.222909</td>\n",
       "    </tr>\n",
       "  </tbody>\n",
       "</table>\n",
       "<p>3501 rows × 2 columns</p>\n",
       "</div>"
      ],
      "text/plain": [
       "         Height      Weight\n",
       "0     73.847017  241.893563\n",
       "1     68.781904  162.310473\n",
       "2     74.110105  212.740856\n",
       "3     71.730978  220.042470\n",
       "4     69.881796  206.349801\n",
       "...         ...         ...\n",
       "3496  69.296830  185.649086\n",
       "3497  70.542201  210.198845\n",
       "3498  73.912549  202.429960\n",
       "3499  67.396021  144.277671\n",
       "3500  72.738970  187.222909\n",
       "\n",
       "[3501 rows x 2 columns]"
      ]
     },
     "execution_count": 32,
     "metadata": {},
     "output_type": "execute_result"
    }
   ],
   "source": [
    "df"
   ]
  },
  {
   "cell_type": "code",
   "execution_count": 33,
   "id": "a8e7e27a",
   "metadata": {},
   "outputs": [
    {
     "data": {
      "text/html": [
       "<div>\n",
       "<style scoped>\n",
       "    .dataframe tbody tr th:only-of-type {\n",
       "        vertical-align: middle;\n",
       "    }\n",
       "\n",
       "    .dataframe tbody tr th {\n",
       "        vertical-align: top;\n",
       "    }\n",
       "\n",
       "    .dataframe thead th {\n",
       "        text-align: right;\n",
       "    }\n",
       "</style>\n",
       "<table border=\"1\" class=\"dataframe\">\n",
       "  <thead>\n",
       "    <tr style=\"text-align: right;\">\n",
       "      <th></th>\n",
       "      <th>Height</th>\n",
       "      <th>Weight</th>\n",
       "    </tr>\n",
       "  </thead>\n",
       "  <tbody>\n",
       "    <tr>\n",
       "      <th>0</th>\n",
       "      <td>73.847017</td>\n",
       "      <td>241.893563</td>\n",
       "    </tr>\n",
       "    <tr>\n",
       "      <th>1</th>\n",
       "      <td>68.781904</td>\n",
       "      <td>162.310473</td>\n",
       "    </tr>\n",
       "    <tr>\n",
       "      <th>2</th>\n",
       "      <td>74.110105</td>\n",
       "      <td>212.740856</td>\n",
       "    </tr>\n",
       "    <tr>\n",
       "      <th>3</th>\n",
       "      <td>71.730978</td>\n",
       "      <td>220.042470</td>\n",
       "    </tr>\n",
       "    <tr>\n",
       "      <th>4</th>\n",
       "      <td>69.881796</td>\n",
       "      <td>206.349801</td>\n",
       "    </tr>\n",
       "    <tr>\n",
       "      <th>...</th>\n",
       "      <td>...</td>\n",
       "      <td>...</td>\n",
       "    </tr>\n",
       "    <tr>\n",
       "      <th>3496</th>\n",
       "      <td>69.296830</td>\n",
       "      <td>185.649086</td>\n",
       "    </tr>\n",
       "    <tr>\n",
       "      <th>3497</th>\n",
       "      <td>70.542201</td>\n",
       "      <td>210.198845</td>\n",
       "    </tr>\n",
       "    <tr>\n",
       "      <th>3498</th>\n",
       "      <td>73.912549</td>\n",
       "      <td>202.429960</td>\n",
       "    </tr>\n",
       "    <tr>\n",
       "      <th>3499</th>\n",
       "      <td>67.396021</td>\n",
       "      <td>144.277671</td>\n",
       "    </tr>\n",
       "    <tr>\n",
       "      <th>3500</th>\n",
       "      <td>72.738970</td>\n",
       "      <td>187.222909</td>\n",
       "    </tr>\n",
       "  </tbody>\n",
       "</table>\n",
       "<p>3501 rows × 2 columns</p>\n",
       "</div>"
      ],
      "text/plain": [
       "         Height      Weight\n",
       "0     73.847017  241.893563\n",
       "1     68.781904  162.310473\n",
       "2     74.110105  212.740856\n",
       "3     71.730978  220.042470\n",
       "4     69.881796  206.349801\n",
       "...         ...         ...\n",
       "3496  69.296830  185.649086\n",
       "3497  70.542201  210.198845\n",
       "3498  73.912549  202.429960\n",
       "3499  67.396021  144.277671\n",
       "3500  72.738970  187.222909\n",
       "\n",
       "[3501 rows x 2 columns]"
      ]
     },
     "execution_count": 33,
     "metadata": {},
     "output_type": "execute_result"
    }
   ],
   "source": [
    "dataFream"
   ]
  },
  {
   "cell_type": "code",
   "execution_count": 34,
   "id": "7cf924e7",
   "metadata": {},
   "outputs": [],
   "source": [
    "dataFream['Prediction of Height'] = LinReg.predict(df[['Height']]) #Add another column named Prediction of Height"
   ]
  },
  {
   "cell_type": "code",
   "execution_count": 35,
   "id": "c89fdf3b",
   "metadata": {},
   "outputs": [
    {
     "data": {
      "text/html": [
       "<div>\n",
       "<style scoped>\n",
       "    .dataframe tbody tr th:only-of-type {\n",
       "        vertical-align: middle;\n",
       "    }\n",
       "\n",
       "    .dataframe tbody tr th {\n",
       "        vertical-align: top;\n",
       "    }\n",
       "\n",
       "    .dataframe thead th {\n",
       "        text-align: right;\n",
       "    }\n",
       "</style>\n",
       "<table border=\"1\" class=\"dataframe\">\n",
       "  <thead>\n",
       "    <tr style=\"text-align: right;\">\n",
       "      <th></th>\n",
       "      <th>Height</th>\n",
       "      <th>Weight</th>\n",
       "      <th>Prediction of Height</th>\n",
       "    </tr>\n",
       "  </thead>\n",
       "  <tbody>\n",
       "    <tr>\n",
       "      <th>0</th>\n",
       "      <td>73.847017</td>\n",
       "      <td>241.893563</td>\n",
       "      <td>215.606945</td>\n",
       "    </tr>\n",
       "    <tr>\n",
       "      <th>1</th>\n",
       "      <td>68.781904</td>\n",
       "      <td>162.310473</td>\n",
       "      <td>185.327653</td>\n",
       "    </tr>\n",
       "    <tr>\n",
       "      <th>2</th>\n",
       "      <td>74.110105</td>\n",
       "      <td>212.740856</td>\n",
       "      <td>217.179689</td>\n",
       "    </tr>\n",
       "    <tr>\n",
       "      <th>3</th>\n",
       "      <td>71.730978</td>\n",
       "      <td>220.042470</td>\n",
       "      <td>202.957246</td>\n",
       "    </tr>\n",
       "    <tr>\n",
       "      <th>4</th>\n",
       "      <td>69.881796</td>\n",
       "      <td>206.349801</td>\n",
       "      <td>191.902816</td>\n",
       "    </tr>\n",
       "    <tr>\n",
       "      <th>...</th>\n",
       "      <td>...</td>\n",
       "      <td>...</td>\n",
       "      <td>...</td>\n",
       "    </tr>\n",
       "    <tr>\n",
       "      <th>3496</th>\n",
       "      <td>69.296830</td>\n",
       "      <td>185.649086</td>\n",
       "      <td>188.405885</td>\n",
       "    </tr>\n",
       "    <tr>\n",
       "      <th>3497</th>\n",
       "      <td>70.542201</td>\n",
       "      <td>210.198845</td>\n",
       "      <td>195.850727</td>\n",
       "    </tr>\n",
       "    <tr>\n",
       "      <th>3498</th>\n",
       "      <td>73.912549</td>\n",
       "      <td>202.429960</td>\n",
       "      <td>215.998696</td>\n",
       "    </tr>\n",
       "    <tr>\n",
       "      <th>3499</th>\n",
       "      <td>67.396021</td>\n",
       "      <td>144.277671</td>\n",
       "      <td>177.042830</td>\n",
       "    </tr>\n",
       "    <tr>\n",
       "      <th>3500</th>\n",
       "      <td>72.738970</td>\n",
       "      <td>187.222909</td>\n",
       "      <td>208.983029</td>\n",
       "    </tr>\n",
       "  </tbody>\n",
       "</table>\n",
       "<p>3501 rows × 3 columns</p>\n",
       "</div>"
      ],
      "text/plain": [
       "         Height      Weight  Prediction of Height\n",
       "0     73.847017  241.893563            215.606945\n",
       "1     68.781904  162.310473            185.327653\n",
       "2     74.110105  212.740856            217.179689\n",
       "3     71.730978  220.042470            202.957246\n",
       "4     69.881796  206.349801            191.902816\n",
       "...         ...         ...                   ...\n",
       "3496  69.296830  185.649086            188.405885\n",
       "3497  70.542201  210.198845            195.850727\n",
       "3498  73.912549  202.429960            215.998696\n",
       "3499  67.396021  144.277671            177.042830\n",
       "3500  72.738970  187.222909            208.983029\n",
       "\n",
       "[3501 rows x 3 columns]"
      ]
     },
     "execution_count": 35,
     "metadata": {},
     "output_type": "execute_result"
    }
   ],
   "source": [
    "dataFream"
   ]
  },
  {
   "cell_type": "code",
   "execution_count": 36,
   "id": "add26c60",
   "metadata": {},
   "outputs": [
    {
     "data": {
      "text/plain": [
       "Text(0, 0.5, 'Weight')"
      ]
     },
     "execution_count": 36,
     "metadata": {},
     "output_type": "execute_result"
    },
    {
     "data": {
      "image/png": "[encoded data removed]",
      "text/plain": [
       "<Figure size 640x480 with 1 Axes>"
      ]
     },
     "metadata": {},
     "output_type": "display_data"
    }
   ],
   "source": [
    "# Print full pyplot graph with best-fit line (x_test)\n",
    "\n",
    "plt.plot(x_tst, LinReg.predict(x_tst), color='Orange')\n",
    "plt.title(\"Height-Weight\")\n",
    "plt.scatter(df.Height, df.Weight, color='purple', marker='*')\n",
    "plt.xlabel('Height')\n",
    "plt.ylabel('Weight')"
   ]
  },
  {
   "cell_type": "code",
   "execution_count": 37,
   "id": "80cc6f03",
   "metadata": {},
   "outputs": [
    {
     "data": {
      "text/plain": [
       "Text(0, 0.5, 'Weight')"
      ]
     },
     "execution_count": 37,
     "metadata": {},
     "output_type": "execute_result"
    },
    {
     "data": {
      "image/png": "[encoded data removed]",
      "text/plain": [
       "<Figure size 640x480 with 1 Axes>"
      ]
     },
     "metadata": {},
     "output_type": "display_data"
    }
   ],
   "source": [
    "# Print full pyplot graph with best-fit line (x_train)\n",
    "\n",
    "plt.plot(x_trn, LinReg.predict(x_trn), color='Orange')\n",
    "plt.title(\"Height-Weight\")\n",
    "plt.scatter(df.Height, df.Weight, color='purple', marker='*')\n",
    "plt.xlabel('Height')\n",
    "plt.ylabel('Weight')"
   ]
  },
  {
   "cell_type": "code",
   "execution_count": 38,
   "id": "65866034",
   "metadata": {},
   "outputs": [],
   "source": [
    "from sklearn.metrics import mean_absolute_error as mae, mean_squared_error as mse"
   ]
  },
  {
   "cell_type": "markdown",
   "id": "4c2eccfb",
   "metadata": {},
   "source": [
    "#### Testing"
   ]
  },
  {
   "cell_type": "code",
   "execution_count": 39,
   "id": "7857ffad",
   "metadata": {},
   "outputs": [
    {
     "data": {
      "text/plain": [
       "8.336615810349368"
      ]
     },
     "execution_count": 39,
     "metadata": {},
     "output_type": "execute_result"
    }
   ],
   "source": [
    "# MAE\n",
    "test_mae = mae(y_tst, LinReg.predict(x_tst)) # y_tst is actual y, reg.predict(x_tst) is actually predicted y\n",
    "test_mae"
   ]
  },
  {
   "cell_type": "code",
   "execution_count": 40,
   "id": "3c57c642",
   "metadata": {},
   "outputs": [
    {
     "data": {
      "text/plain": [
       "106.01679593408504"
      ]
     },
     "execution_count": 40,
     "metadata": {},
     "output_type": "execute_result"
    }
   ],
   "source": [
    "# MSE\n",
    "test_mse = mse(y_tst, LinReg.predict(x_tst)) # y_tst is actual y, reg.predict(x_tst) is actually predicted y\n",
    "test_mse"
   ]
  },
  {
   "cell_type": "markdown",
   "id": "2d4a9f5b",
   "metadata": {},
   "source": [
    "#### Training"
   ]
  },
  {
   "cell_type": "code",
   "execution_count": 41,
   "id": "acaddd7e",
   "metadata": {},
   "outputs": [
    {
     "data": {
      "text/plain": [
       "8.004093695285706"
      ]
     },
     "execution_count": 41,
     "metadata": {},
     "output_type": "execute_result"
    }
   ],
   "source": [
    "# MAE\n",
    "train_mae = mae(y_trn, LinReg.predict(x_trn)) # y_trn is actual y, reg.predict(x_trn) is actually predicted y\n",
    "train_mae"
   ]
  },
  {
   "cell_type": "code",
   "execution_count": 42,
   "id": "f518d39b",
   "metadata": {},
   "outputs": [
    {
     "data": {
      "text/plain": [
       "106.00567204960477"
      ]
     },
     "execution_count": 42,
     "metadata": {},
     "output_type": "execute_result"
    }
   ],
   "source": [
    "# MSE\n",
    "train_mse = mse(y_trn, LinReg.predict(x_trn)) # y_trn is actual y, reg.predict(x_trn) is actually predicted y\n",
    "train_mse "
   ]
  },
  {
   "cell_type": "code",
   "execution_count": 43,
   "id": "152443a6",
   "metadata": {},
   "outputs": [
    {
     "data": {
      "text/plain": [
       "0.7437517146778504"
      ]
     },
     "execution_count": 43,
     "metadata": {},
     "output_type": "execute_result"
    }
   ],
   "source": [
    "LinReg.score(x_tst, y_tst) #Testing Accuracy of tested X and Y data"
   ]
  },
  {
   "cell_type": "code",
   "execution_count": 44,
   "id": "a8c17548",
   "metadata": {},
   "outputs": [
    {
     "data": {
      "text/plain": [
       "0.729271763964062"
      ]
     },
     "execution_count": 44,
     "metadata": {},
     "output_type": "execute_result"
    }
   ],
   "source": [
    "LinReg.score(x_trn, y_trn) #Testing Accuracy of trained X & Y data"
   ]
  },
  {
   "cell_type": "markdown",
   "id": "ba1be328",
   "metadata": {},
   "source": [
    "# Save ML"
   ]
  },
  {
   "cell_type": "code",
   "execution_count": 45,
   "id": "a4da570b",
   "metadata": {},
   "outputs": [],
   "source": [
    "import joblib #importing joblib library"
   ]
  },
  {
   "cell_type": "code",
   "execution_count": 46,
   "id": "7944c0f1",
   "metadata": {},
   "outputs": [
    {
     "data": {
      "text/plain": [
       "['model']"
      ]
     },
     "execution_count": 46,
     "metadata": {},
     "output_type": "execute_result"
    }
   ],
   "source": [
    "joblib.dump(LinReg, 'model') # Saving LinReg object on model file. Here model saves all the trained data into model file."
   ]
  },
  {
   "cell_type": "code",
   "execution_count": 47,
   "id": "3c99e0b2",
   "metadata": {},
   "outputs": [],
   "source": [
    "mdl = joblib.load('model') # Load the model file for use our trained data"
   ]
  },
  {
   "cell_type": "code",
   "execution_count": 48,
   "id": "fe5d5b50",
   "metadata": {},
   "outputs": [
    {
     "data": {
      "text/plain": [
       "array([[371.94971568]])"
      ]
     },
     "execution_count": 48,
     "metadata": {},
     "output_type": "execute_result"
    }
   ],
   "source": [
    "LinReg.predict([[100]]) # testing data"
   ]
  },
  {
   "cell_type": "code",
   "execution_count": 49,
   "id": "951451c6",
   "metadata": {},
   "outputs": [
    {
     "data": {
      "text/plain": [
       "array([[371.94971568]])"
      ]
     },
     "execution_count": 49,
     "metadata": {},
     "output_type": "execute_result"
    }
   ],
   "source": [
    "mdl.predict([[100]]) # testing data"
   ]
  },
  {
   "cell_type": "code",
   "execution_count": null,
   "id": "c9f4a0af",
   "metadata": {},
   "outputs": [],
   "source": []
  }
 ],
 "metadata": {
  "kernelspec": {
   "display_name": "Python 3 (ipykernel)",
   "language": "python",
   "name": "python3"
  },
  "language_info": {
   "codemirror_mode": {
    "name": "ipython",
    "version": 3
   },
   "file_extension": ".py",
   "mimetype": "text/x-python",
   "name": "python",
   "nbconvert_exporter": "python",
   "pygments_lexer": "ipython3",
   "version": "3.11.2"
  },
  "varInspector": {
   "cols": {
    "lenName": 16,
    "lenType": 16,
    "lenVar": 40
   },
   "kernels_config": {
    "python": {
     "delete_cmd_postfix": "",
     "delete_cmd_prefix": "del ",
     "library": "var_list.py",
     "varRefreshCmd": "print(var_dic_list())"
    },
    "r": {
     "delete_cmd_postfix": ") ",
     "delete_cmd_prefix": "rm(",
     "library": "var_list.r",
     "varRefreshCmd": "cat(var_dic_list()) "
    }
   },
   "types_to_exclude": [
    "module",
    "function",
    "builtin_function_or_method",
    "instance",
    "_Feature"
   ],
   "window_display": false
  }
 },
 "nbformat": 4,
 "nbformat_minor": 5
}
